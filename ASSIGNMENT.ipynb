{
 "cells": [
  {
   "cell_type": "code",
   "execution_count": 271,
   "id": "a421dfdf-f372-4a1b-b07b-323f300757a1",
   "metadata": {},
   "outputs": [
    {
     "name": "stdout",
     "output_type": "stream",
     "text": [
      "20 is greater \n"
     ]
    }
   ],
   "source": [
    "#TO FIND GREATEST OF TWO NO\n",
    "a,b=10,20\n",
    "if(a>b):\n",
    "    print(f\"{a} is greater \")\n",
    "else:\n",
    "    print(f\"{b} is greater \")"
   ]
  },
  {
   "cell_type": "code",
   "execution_count": 282,
   "id": "aa0e5ae3-de40-462c-9ee4-ae6f13efd97d",
   "metadata": {},
   "outputs": [
    {
     "name": "stdout",
     "output_type": "stream",
     "text": [
      "300 is greater\n"
     ]
    }
   ],
   "source": [
    "#TO FIND GREATEST OF THREE NO\n",
    "a,b,c=50,10,300\n",
    "if(a>b):\n",
    "    if(a>c):\n",
    "        print(f\"{a} is greater \")\n",
    "    else:\n",
    "        print(f\"{c} is greater\")\n",
    "else:\n",
    "    if(b>c):\n",
    "        print(f\"{b} is greater\")\n",
    "    else:\n",
    "        print(f\"{c} is greater\")\n",
    "    \n",
    "    "
   ]
  },
  {
   "cell_type": "code",
   "execution_count": 285,
   "id": "c998e014-e6b3-4d0d-a83e-20190bb18b5e",
   "metadata": {},
   "outputs": [
    {
     "name": "stdout",
     "output_type": "stream",
     "text": [
      "100 is greater\n"
     ]
    }
   ],
   "source": [
    "#TO FIND GREATEST OF THREE NO\n",
    "a,b,c,d=100,20,30,40\n",
    "if(a>b):\n",
    "    if(a>c):\n",
    "        if(a>d):\n",
    "            print(f\"{a} is greater\")\n",
    "        else:\n",
    "            print(f\"{d} is greater\")\n",
    "    else:\n",
    "        if(c>d):\n",
    "            print(f\"{c} is greater\")\n",
    "        else:\n",
    "            print(f\"{d} is greater\")\n",
    "else:\n",
    "    if(b>c):\n",
    "        if(b>d):\n",
    "            print(f\"{b} is greater\")\n",
    "        else:\n",
    "            print(f\"{d} is greater\")\n",
    "    else:\n",
    "        if(c>d):\n",
    "            print(f\"{c} is greater\")\n",
    "        else:\n",
    "            print(f\"{d} is greater\")\n",
    "            \n",
    "            "
   ]
  },
  {
   "cell_type": "code",
   "execution_count": 5,
   "id": "ef07ef94-d698-4c39-a782-0b878cb841cf",
   "metadata": {},
   "outputs": [
    {
     "name": "stdout",
     "output_type": "stream",
     "text": [
      "b is the greatest\n"
     ]
    }
   ],
   "source": [
    "#TO FIND HIGHEST AMONG THREE NO\n",
    "a,b,c=100,202,11\n",
    "if(a>b and a>c):\n",
    "    print(\"a is the greatest\")\n",
    "elif(b>c):\n",
    "    print(\"b is the greatest\")\n",
    "else:\n",
    "    print(\"c is the greatest\")"
   ]
  },
  {
   "cell_type": "code",
   "execution_count": 10,
   "id": "c77ebcdc-7acb-4dd0-9a15-233d1ab76821",
   "metadata": {},
   "outputs": [
    {
     "name": "stdout",
     "output_type": "stream",
     "text": [
      "c is the greatest\n"
     ]
    }
   ],
   "source": [
    "#TO FIND THE GREATEST AMONG FOUR NO\n",
    "a,b,c,d=10,1,81,31\n",
    "if(a>b and a>c and a>d):\n",
    "    print(\"a is the greatest\")\n",
    "elif(b>c and b>d):\n",
    "    print(\"b is the greatest\")\n",
    "elif(c>d):\n",
    "    print(\"c is the greatest\")\n",
    "else:\n",
    "    print(\"d is the greatest\")"
   ]
  },
  {
   "cell_type": "code",
   "execution_count": 11,
   "id": "4be87aa6-108e-47fc-91e1-1ac811baae57",
   "metadata": {},
   "outputs": [
    {
     "name": "stdout",
     "output_type": "stream",
     "text": [
      "c is the greatest\n"
     ]
    }
   ],
   "source": [
    "#TO FIND THE GREATEST AMONG FIVE NO\n",
    "a,b,c,d,e=10,22,41,9,4\n",
    "if(a>b and a>c and a>d and a>e):\n",
    "    print(\"a is the greatest\")\n",
    "elif(b>c and b>d and b>e):\n",
    "    print(\"b is the greatest\")\n",
    "elif(c>d and c>e):\n",
    "    print(\"c is the greatest\")\n",
    "elif(d>e):\n",
    "    print(\"d is the greatest\")\n",
    "else:\n",
    "    print(\"e is the greatest\")"
   ]
  },
  {
   "cell_type": "code",
   "execution_count": 18,
   "id": "2bffcea9-719e-4d79-a81c-96f920a00a4b",
   "metadata": {},
   "outputs": [
    {
     "name": "stdout",
     "output_type": "stream",
     "text": [
      "1904 is a LEAP YEAR\n"
     ]
    }
   ],
   "source": [
    "#LEAP YEAR\n",
    "year=1904\n",
    "if(year%100==0):\n",
    "    if(year%400==0):\n",
    "        print(f\"{year} is a LEAP YEAR\")\n",
    "    else:\n",
    "        print(f\"{year} is not a LEAP YEAR\")\n",
    "else:\n",
    "    if(year%4==0):\n",
    "        print(f\"{year} is a LEAP YEAR\")\n",
    "    else:\n",
    "        print(f\"{year} is not a LEAP YEAR\")\n",
    "        "
   ]
  },
  {
   "cell_type": "code",
   "execution_count": 22,
   "id": "fe48eb0a-d724-4c64-a145-0fda71b0186c",
   "metadata": {},
   "outputs": [
    {
     "name": "stdout",
     "output_type": "stream",
     "text": [
      "1900 is not LEAP YEAR\n"
     ]
    }
   ],
   "source": [
    "#LEAP YEAR\n",
    "year=1900\n",
    "if(year%400==0):\n",
    "    print(f\"{year} is a LEAP YEAR\")\n",
    "elif(year%100!=0 and year%4==0):\n",
    "    print(f\"{year} is a LEAP YEAR\")\n",
    "else:\n",
    "    print(f\"{year} is not LEAP YEAR\")\n",
    "    "
   ]
  },
  {
   "cell_type": "code",
   "execution_count": 23,
   "id": "2231ac5c-0b9e-450c-809c-30e1ea4eba63",
   "metadata": {},
   "outputs": [
    {
     "data": {
      "text/plain": [
       "[1, 2, 3, 4, 5, 6, 7, 8, 9, 10]"
      ]
     },
     "execution_count": 23,
     "metadata": {},
     "output_type": "execute_result"
    }
   ],
   "source": [
    "list(range(1,11))"
   ]
  },
  {
   "cell_type": "code",
   "execution_count": 24,
   "id": "06d407a8-9d77-4ad6-b82a-0006bc49dfd3",
   "metadata": {},
   "outputs": [
    {
     "data": {
      "text/plain": [
       "[10, 9, 8, 7, 6, 5, 4, 3, 2, 1]"
      ]
     },
     "execution_count": 24,
     "metadata": {},
     "output_type": "execute_result"
    }
   ],
   "source": [
    "list(range(10,0,-1))"
   ]
  },
  {
   "cell_type": "code",
   "execution_count": 25,
   "id": "f2e156c4-202f-42c7-9605-edb642e5f15c",
   "metadata": {},
   "outputs": [
    {
     "data": {
      "text/plain": [
       "[-1, -2, -3, -4, -5, -6, -7, -8, -9]"
      ]
     },
     "execution_count": 25,
     "metadata": {},
     "output_type": "execute_result"
    }
   ],
   "source": [
    "list(range(-1,-10,-1))"
   ]
  },
  {
   "cell_type": "code",
   "execution_count": 26,
   "id": "b1602ee0-0721-44e8-8ebd-3b787b8cc87c",
   "metadata": {},
   "outputs": [
    {
     "data": {
      "text/plain": [
       "[-10, -9, -8, -7, -6, -5, -4, -3, -2]"
      ]
     },
     "execution_count": 26,
     "metadata": {},
     "output_type": "execute_result"
    }
   ],
   "source": [
    "list(range(-10,-1,))"
   ]
  },
  {
   "cell_type": "code",
   "execution_count": 28,
   "id": "0a9fefbf-e278-4a7b-ba8f-5e4f2ed3212c",
   "metadata": {},
   "outputs": [
    {
     "name": "stdout",
     "output_type": "stream",
     "text": [
      "1 2 3 4 5 6 7 8 9 10 "
     ]
    }
   ],
   "source": [
    "i=1\n",
    "while i!=11:\n",
    "    print(i,end=' ')\n",
    "    i+=1"
   ]
  },
  {
   "cell_type": "code",
   "execution_count": 30,
   "id": "4152d7c3-58de-4cef-b953-ec860f20c871",
   "metadata": {},
   "outputs": [
    {
     "name": "stdout",
     "output_type": "stream",
     "text": [
      "10 9 8 7 6 5 4 3 2 1 "
     ]
    }
   ],
   "source": [
    "i=10\n",
    "while i!=0:\n",
    "    print(i, end=' ')\n",
    "    i-=1"
   ]
  },
  {
   "cell_type": "code",
   "execution_count": 31,
   "id": "3255c02b-8b95-4f0c-a2ad-ef11188ca935",
   "metadata": {},
   "outputs": [
    {
     "name": "stdout",
     "output_type": "stream",
     "text": [
      "-1 -2 -3 -4 -5 -6 -7 -8 -9 -10 "
     ]
    }
   ],
   "source": [
    "i=-1\n",
    "while i!=-11:\n",
    "    print(i, end=' ')\n",
    "    i-=1"
   ]
  },
  {
   "cell_type": "code",
   "execution_count": 33,
   "id": "ee6bd161-7ffb-4b83-964e-2f64e9a1829f",
   "metadata": {},
   "outputs": [
    {
     "name": "stdout",
     "output_type": "stream",
     "text": [
      "-10 -9 -8 -7 -6 -5 -4 -3 -2 -1 "
     ]
    }
   ],
   "source": [
    "i=-10\n",
    "while i!=0:\n",
    "    print(i, end=' ')\n",
    "    i+=1"
   ]
  },
  {
   "cell_type": "code",
   "execution_count": 40,
   "id": "a637e1c4-fefb-4ed1-a8ad-7ec78bac109f",
   "metadata": {},
   "outputs": [
    {
     "name": "stdout",
     "output_type": "stream",
     "text": [
      "* * * * * \n",
      "* * * * * \n",
      "* * * * * \n",
      "* * * * * \n",
      "* * * * * \n"
     ]
    }
   ],
   "source": [
    "for i in range(0,5):\n",
    "    for j in range(0,5):\n",
    "        print('*',end=' ')\n",
    "    print()"
   ]
  },
  {
   "cell_type": "code",
   "execution_count": 42,
   "id": "fc3cab44-2b87-4a5e-87ea-726e4ef52d1b",
   "metadata": {},
   "outputs": [
    {
     "name": "stdout",
     "output_type": "stream",
     "text": [
      "* \n",
      "* * \n",
      "* * * \n",
      "* * * * \n",
      "* * * * * \n"
     ]
    }
   ],
   "source": [
    "str=1\n",
    "n=5\n",
    "for i in range(0,n):\n",
    "    for j in range(0,str):\n",
    "        print('*',end=' ')\n",
    "    print()\n",
    "    str+=1"
   ]
  },
  {
   "cell_type": "code",
   "execution_count": 44,
   "id": "4e9e64fd-9867-4f58-a06e-0fb7da81fecb",
   "metadata": {},
   "outputs": [
    {
     "name": "stdout",
     "output_type": "stream",
     "text": [
      "* * * * * \n",
      "* * * * \n",
      "* * * \n",
      "* * \n",
      "* \n"
     ]
    }
   ],
   "source": [
    "str=5\n",
    "n=5\n",
    "for i in range(0,n):\n",
    "    for j in range(0,str):\n",
    "        print('*',end=' ')\n",
    "    print()\n",
    "    str-=1"
   ]
  },
  {
   "cell_type": "code",
   "execution_count": 49,
   "id": "b6e7ef73-2b2d-4947-a138-45ab9eb35556",
   "metadata": {},
   "outputs": [
    {
     "name": "stdout",
     "output_type": "stream",
     "text": [
      "        * \n",
      "      * * \n",
      "    * * * \n",
      "  * * * * \n",
      "* * * * * \n"
     ]
    }
   ],
   "source": [
    "str=1\n",
    "n=5\n",
    "sp=n-1\n",
    "for i in range(0,n):\n",
    "    for j in range(0,sp):\n",
    "        print(' ',end=' ')\n",
    "    for k in range(0,str):\n",
    "        print('*',end=' ')\n",
    "    print()\n",
    "    sp-=1\n",
    "    str+=1"
   ]
  },
  {
   "cell_type": "code",
   "execution_count": 50,
   "id": "c77028b2-9b3a-4ecf-a5a8-e559a9c87cba",
   "metadata": {},
   "outputs": [
    {
     "name": "stdout",
     "output_type": "stream",
     "text": [
      "* * * * * \n",
      "  * * * * \n",
      "    * * * \n",
      "      * * \n",
      "        * \n"
     ]
    }
   ],
   "source": [
    "str=5\n",
    "n=5\n",
    "sp=0\n",
    "for i in range(0,n):\n",
    "    for j in range(0,sp):\n",
    "        print(' ',end=' ')\n",
    "    for k in range(0,str):\n",
    "        print('*',end=' ')\n",
    "    print()\n",
    "    str-=1\n",
    "    sp+=1"
   ]
  },
  {
   "cell_type": "code",
   "execution_count": 54,
   "id": "962f7390-c214-4df7-aeac-45710afb2b7a",
   "metadata": {},
   "outputs": [
    {
     "name": "stdout",
     "output_type": "stream",
     "text": [
      "        * \n",
      "      * * * \n",
      "    * * * * * \n",
      "  * * * * * * * \n",
      "* * * * * * * * * \n"
     ]
    }
   ],
   "source": [
    "str=1\n",
    "n=5\n",
    "sp=n-1\n",
    "for i in range(0,n):\n",
    "    for j in range(0,sp):\n",
    "        print(' ',end=' ')\n",
    "    for k in range(0,str):\n",
    "        print('*',end=' ')\n",
    "    print()\n",
    "    sp-=1\n",
    "    str+=2"
   ]
  },
  {
   "cell_type": "code",
   "execution_count": 1,
   "id": "1408c871-7be6-4e30-86b0-08543af27de4",
   "metadata": {},
   "outputs": [
    {
     "name": "stdout",
     "output_type": "stream",
     "text": [
      "* * * * * * * * * \n",
      "  * * * * * * * \n",
      "    * * * * * \n",
      "      * * * \n",
      "        * \n"
     ]
    }
   ],
   "source": [
    "str=9\n",
    "n=5\n",
    "sp=0\n",
    "for i in range(0,n):\n",
    "    for j in range(0,sp):\n",
    "        print(' ',end=' ')\n",
    "    for k in range(0,str):\n",
    "        print('*',end=' ')\n",
    "    print()\n",
    "    str-=2\n",
    "    sp+=1"
   ]
  },
  {
   "cell_type": "code",
   "execution_count": 5,
   "id": "cd91654c-efce-4af7-8660-f3eb4dee172b",
   "metadata": {},
   "outputs": [
    {
     "name": "stdout",
     "output_type": "stream",
     "text": [
      "1 2 3 control outside the block\n"
     ]
    }
   ],
   "source": [
    "n=1\n",
    "while n!=11:\n",
    "    if n==4:\n",
    "        break\n",
    "    print(n,end=' ')\n",
    "    n+=1\n",
    "print('control outside the block')"
   ]
  },
  {
   "cell_type": "code",
   "execution_count": null,
   "id": "df9917d3-dfef-4c77-bf38-382192974458",
   "metadata": {},
   "outputs": [
    {
     "name": "stdout",
     "output_type": "stream",
     "text": [
      "1 2 3 "
     ]
    }
   ],
   "source": [
    "n=1\n",
    "while n!=11:\n",
    "    if n==4:\n",
    "        continue\n",
    "    print(n,end=' ')\n",
    "    n+=1\n",
    "print('control outside the block')"
   ]
  },
  {
   "cell_type": "code",
   "execution_count": 1,
   "id": "97142f3e-b685-4caa-9067-83d15291a3bc",
   "metadata": {},
   "outputs": [
    {
     "name": "stdout",
     "output_type": "stream",
     "text": [
      "1 2 3 4 5 6 7 8 9 10 control outside the block\n"
     ]
    }
   ],
   "source": [
    "n=1\n",
    "while n!=11:\n",
    "    if n==4:\n",
    "        pass\n",
    "    print(n,end=' ')\n",
    "    n+=1\n",
    "print('control outside the block')"
   ]
  },
  {
   "cell_type": "code",
   "execution_count": 10,
   "id": "e96939ff-a614-4ae5-8ab2-d57c2b3be0f7",
   "metadata": {},
   "outputs": [
    {
     "name": "stdout",
     "output_type": "stream",
     "text": [
      "* * * * * \n",
      "* * * * * \n",
      "@ @ @ @ @ \n",
      "# # # # # \n",
      "# # # # # \n"
     ]
    }
   ],
   "source": [
    "n=5\n",
    "for i in range(0,n):\n",
    "    for j in range(0,n):\n",
    "        if (i<n//2):\n",
    "            print('*',end=' ')\n",
    "        elif(i==n//2):\n",
    "            print('@',end=' ')\n",
    "        else:\n",
    "            print('#',end=' ')\n",
    "    print()"
   ]
  },
  {
   "cell_type": "code",
   "execution_count": 11,
   "id": "a0f527c7-9e4c-46ed-b5df-37d1782690b0",
   "metadata": {},
   "outputs": [
    {
     "name": "stdout",
     "output_type": "stream",
     "text": [
      "* * * * * \n",
      "@ @ @ @ @ \n",
      "* * * * * \n",
      "@ @ @ @ @ \n",
      "* * * * * \n"
     ]
    }
   ],
   "source": [
    "n=5\n",
    "for i in range(0,n):\n",
    "    for j in range(0,n):\n",
    "        if(i%2==0):\n",
    "            print('*',end=' ')\n",
    "        else:\n",
    "            print('@',end=' ')\n",
    "    print()"
   ]
  },
  {
   "cell_type": "code",
   "execution_count": 1,
   "id": "d02f151f-1205-476c-84be-aa82a3312b51",
   "metadata": {},
   "outputs": [
    {
     "name": "stdout",
     "output_type": "stream",
     "text": [
      "      * \n",
      "    * * * \n",
      "  * * * * * \n",
      "* * * * * * * \n",
      "  * * * * * \n",
      "    * * * \n",
      "      * \n"
     ]
    }
   ],
   "source": [
    "n=7\n",
    "str=1\n",
    "sp=n//2\n",
    "for i in range(0,n):\n",
    "    for j in range(0,sp):\n",
    "        print(' ',end=' ')\n",
    "    for k in range(0,str):\n",
    "        print('*',end=' ')\n",
    "    print()\n",
    "    if i<n//2:\n",
    "        str+=2\n",
    "        sp-=1\n",
    "    else:\n",
    "        str-=2\n",
    "        sp+=1"
   ]
  },
  {
   "cell_type": "code",
   "execution_count": 1,
   "id": "0748e1eb-bdfd-4245-b785-5218b832d610",
   "metadata": {},
   "outputs": [
    {
     "name": "stdout",
     "output_type": "stream",
     "text": [
      "1 1 1 1 1 \n",
      "2 2 2 2 2 \n",
      "3 3 3 3 3 \n",
      "2 2 2 2 2 \n",
      "1 1 1 1 1 \n"
     ]
    }
   ],
   "source": [
    "n=5\n",
    "num=1\n",
    "for i in range(0,n):\n",
    "    for j in range(0,n):\n",
    "        print(num,end=' ')\n",
    "    print()\n",
    "    num=num+1 if i<n//2 else num-1\n",
    "    "
   ]
  },
  {
   "cell_type": "code",
   "execution_count": 33,
   "id": "3f19211c-75e3-4677-a456-e41b885c2e34",
   "metadata": {},
   "outputs": [
    {
     "name": "stdout",
     "output_type": "stream",
     "text": [
      "3 3 3 3 3 \n",
      "2 2 2 2 2 \n",
      "1 1 1 1 1 \n",
      "2 2 2 2 2 \n",
      "3 3 3 3 3 \n"
     ]
    }
   ],
   "source": [
    "n=5\n",
    "num=3\n",
    "for i in range(0,n):\n",
    "    for j in range(0,n):\n",
    "        print(num,end=' ')\n",
    "    print()\n",
    "    num=num-1 if i<n//2 else num+1"
   ]
  },
  {
   "cell_type": "code",
   "execution_count": 36,
   "id": "f7febc47-6ddd-4038-8146-554643d90278",
   "metadata": {},
   "outputs": [
    {
     "name": "stdout",
     "output_type": "stream",
     "text": [
      "1 2 3 4 5 \n",
      "1 2 3 4 5 \n",
      "1 2 3 4 5 \n",
      "1 2 3 4 5 \n",
      "1 2 3 4 5 \n"
     ]
    }
   ],
   "source": [
    "n=5\n",
    "for i in range(0,n):\n",
    "    num=1\n",
    "    for j in range(0,n):\n",
    "        print(num,end=' ')\n",
    "        num+=1\n",
    "    print()\n",
    "    "
   ]
  },
  {
   "cell_type": "code",
   "execution_count": 37,
   "id": "1a76152a-ccf2-4a6c-9dd7-22f1ea686e4e",
   "metadata": {},
   "outputs": [
    {
     "name": "stdout",
     "output_type": "stream",
     "text": [
      "5 4 3 2 1 \n",
      "5 4 3 2 1 \n",
      "5 4 3 2 1 \n",
      "5 4 3 2 1 \n",
      "5 4 3 2 1 \n"
     ]
    }
   ],
   "source": [
    "n=5\n",
    "for i in range(0,n):\n",
    "    num=5\n",
    "    for j in range(0,n):\n",
    "        print(num,end=' ')\n",
    "        num-=1\n",
    "    print()"
   ]
  },
  {
   "cell_type": "code",
   "execution_count": 40,
   "id": "92deaa1c-558a-4a5f-b9d7-49a866a18c8c",
   "metadata": {},
   "outputs": [
    {
     "name": "stdout",
     "output_type": "stream",
     "text": [
      "1 2 3 2 1 \n",
      "1 2 3 2 1 \n",
      "1 2 3 2 1 \n",
      "1 2 3 2 1 \n",
      "1 2 3 2 1 \n"
     ]
    }
   ],
   "source": [
    "n=5\n",
    "for i in range(0,n):\n",
    "    num=1\n",
    "    for j in range(0,n):\n",
    "        print(num,end=' ')\n",
    "        num=num+1 if j<n//2 else num-1 \n",
    "    print()"
   ]
  },
  {
   "cell_type": "code",
   "execution_count": 7,
   "id": "a2db34a6-cd39-4001-b2b7-7b9d31bd2d3d",
   "metadata": {},
   "outputs": [
    {
     "name": "stdout",
     "output_type": "stream",
     "text": [
      "        1 \n",
      "      2 2 2 \n",
      "    3 3 3 3 3 \n",
      "  4 4 4 4 4 4 4 \n",
      "5 5 5 5 5 5 5 5 5 \n"
     ]
    }
   ],
   "source": [
    "n=5\n",
    "st=1\n",
    "num=1\n",
    "sp=n-1\n",
    "for i in range(0,n):\n",
    "    for j in range(0,sp):\n",
    "        print(' ',end=' ')\n",
    "    for k in range(0,st):\n",
    "        print(num,end=' ')\n",
    "    print()\n",
    "    num+=1\n",
    "    sp-=1\n",
    "    st+=2"
   ]
  },
  {
   "cell_type": "code",
   "execution_count": 9,
   "id": "1232053e-ad63-4f70-bbbf-110c1f21c692",
   "metadata": {},
   "outputs": [
    {
     "name": "stdout",
     "output_type": "stream",
     "text": [
      "        1 \n",
      "      1 2 3 \n",
      "    1 2 3 4 5 \n",
      "  1 2 3 4 5 6 7 \n",
      "1 2 3 4 5 6 7 8 9 \n"
     ]
    }
   ],
   "source": [
    "n=5\n",
    "sp=n-1\n",
    "st=1\n",
    "for i in range(0,n):\n",
    "    num=1\n",
    "    for j in range(0,sp):\n",
    "        print(' ',end=' ')\n",
    "    for k in range(0,st):\n",
    "        print(num,end=' ')\n",
    "        num+=1\n",
    "    print()\n",
    "    st+=2\n",
    "    sp-=1"
   ]
  },
  {
   "cell_type": "code",
   "execution_count": 16,
   "id": "7deebf00-9023-4ead-a219-b2c7407489b6",
   "metadata": {},
   "outputs": [
    {
     "name": "stdout",
     "output_type": "stream",
     "text": [
      "1 \n",
      "2 1 \n",
      "3 2 1 \n",
      "4 3 2 1 \n",
      "5 4 3 2 1 \n"
     ]
    }
   ],
   "source": [
    "n=5\n",
    "st=1\n",
    "for i in range(0,n):\n",
    "    num=i+1\n",
    "    for j in range(0,st):\n",
    "        print(num,end=' ')\n",
    "        num-=1\n",
    "    print()\n",
    "    st+=1"
   ]
  },
  {
   "cell_type": "code",
   "execution_count": 20,
   "id": "5b031ee0-2441-4364-b020-db34099366ce",
   "metadata": {},
   "outputs": [
    {
     "name": "stdout",
     "output_type": "stream",
     "text": [
      "1 \n",
      "1 2 \n",
      "1 2 3 \n",
      "1 2 3 4 \n",
      "1 2 3 4 5 \n"
     ]
    }
   ],
   "source": [
    "n=5\n",
    "st=1\n",
    "for i in range(0,n):\n",
    "    num=1\n",
    "    for j in range(0,st):\n",
    "        print(num,end=' ')\n",
    "        num+=1\n",
    "    print()\n",
    "    st+=1"
   ]
  },
  {
   "cell_type": "code",
   "execution_count": 25,
   "id": "cd8405d0-1176-488a-bfdf-5b040d6ed607",
   "metadata": {},
   "outputs": [
    {
     "name": "stdout",
     "output_type": "stream",
     "text": [
      "        1 \n",
      "      2 1 \n",
      "    3 2 1 \n",
      "  4 3 2 1 \n",
      "5 4 3 2 1 \n"
     ]
    }
   ],
   "source": [
    "n=5\n",
    "st=1\n",
    "sp=n-1\n",
    "for i in range(0,n):\n",
    "    num=i+1\n",
    "    for j in range(0,sp):\n",
    "        print(' ',end=' ')\n",
    "    for k in range(0,st):\n",
    "        print(num,end=' ')\n",
    "        num-=1\n",
    "    print()\n",
    "    sp-=1\n",
    "    st+=1\n",
    "        "
   ]
  },
  {
   "cell_type": "code",
   "execution_count": 26,
   "id": "f6bf8624-2f8b-440b-a92a-996a4b456c31",
   "metadata": {},
   "outputs": [
    {
     "name": "stdout",
     "output_type": "stream",
     "text": [
      "        1 \n",
      "      1 2 1 \n",
      "    1 2 3 2 1 \n",
      "  1 2 3 4 3 2 1 \n",
      "1 2 3 4 5 4 3 2 1 \n"
     ]
    }
   ],
   "source": [
    "n=5\n",
    "st=1\n",
    "sp=n-1\n",
    "for i in range(0,n):\n",
    "    num=1\n",
    "    for j in range(0,sp):\n",
    "        print(' ',end=' ')\n",
    "    for k in range(0,st):\n",
    "        print(num,end=' ')\n",
    "        num=num+1 if k<st//2 else num-1\n",
    "    print()\n",
    "    sp-=1\n",
    "    st+=2"
   ]
  },
  {
   "cell_type": "code",
   "execution_count": 29,
   "id": "6f6a6d04-3455-430a-8aaa-ccd56ae88496",
   "metadata": {},
   "outputs": [
    {
     "name": "stdout",
     "output_type": "stream",
     "text": [
      "        1 \n",
      "      2 1 2 \n",
      "    3 2 1 2 3 \n",
      "  4 3 2 1 2 3 4 \n",
      "5 4 3 2 1 2 3 4 5 \n"
     ]
    }
   ],
   "source": [
    "n=5\n",
    "st=1\n",
    "sp=n-1\n",
    "for i in range(0,n):\n",
    "    num=i+1\n",
    "    for j in range(0,sp):\n",
    "        print(' ',end=' ')\n",
    "    for k in range(0,st):\n",
    "        print(num,end=' ')\n",
    "        num=num-1 if k<st//2 else num+1\n",
    "    print()\n",
    "    sp-=1\n",
    "    st+=2"
   ]
  },
  {
   "cell_type": "code",
   "execution_count": 35,
   "id": "89035d01-7216-4df5-b77d-65017dd072c0",
   "metadata": {},
   "outputs": [
    {
     "name": "stdout",
     "output_type": "stream",
     "text": [
      "1 \n",
      "2 1 \n",
      "3 2 1 \n",
      "4 3 2 1 \n",
      "5 4 3 2 1 \n"
     ]
    }
   ],
   "source": [
    "n=5\n",
    "st=1\n",
    "for i in range(0,n):\n",
    "    num=i+1\n",
    "    for j in range(0,st):\n",
    "        print(num,end=' ')\n",
    "        num-=1\n",
    "    print()\n",
    "    st+=1"
   ]
  },
  {
   "cell_type": "code",
   "execution_count": 38,
   "id": "fdd7dea1-2082-4cd0-82ea-c97c4ec19c4d",
   "metadata": {},
   "outputs": [
    {
     "name": "stdout",
     "output_type": "stream",
     "text": [
      "        1 \n",
      "      2 2 \n",
      "    3 3 3 \n",
      "  4 4 4 4 \n",
      "5 5 5 5 5 \n"
     ]
    }
   ],
   "source": [
    "n=5\n",
    "st=1\n",
    "sp=n-1\n",
    "for i in range(0,n):\n",
    "    num=i+1\n",
    "    for j in range(0,sp):\n",
    "        print(' ',end=' ')\n",
    "    for k in range(0,st):\n",
    "        print(num,end=' ')\n",
    "    print()\n",
    "    sp-=1\n",
    "    st+=1"
   ]
  },
  {
   "cell_type": "code",
   "execution_count": 43,
   "id": "d2d69228-3708-464f-8ea4-93df6797eaea",
   "metadata": {},
   "outputs": [
    {
     "name": "stdout",
     "output_type": "stream",
     "text": [
      "        1 \n",
      "      1 2 3 \n",
      "    1 2 3 4 5 \n",
      "  1 2 3 4 5 6 7 \n",
      "1 2 3 4 5 6 7 8 9 \n"
     ]
    }
   ],
   "source": [
    "n=5\n",
    "st=1\n",
    "sp=n-1\n",
    "for i in range(0,n):\n",
    "    num=1\n",
    "    for j in range(0,sp):\n",
    "        print(' ',end=' ')\n",
    "    for k in range(0,st):\n",
    "        print(num,end=' ')\n",
    "        num+=1\n",
    "    print()\n",
    "    sp-=1\n",
    "    st+=2\n",
    "        "
   ]
  },
  {
   "cell_type": "code",
   "execution_count": 1,
   "id": "233d8667-cca7-4dbd-9b9f-5ee0a08476ef",
   "metadata": {},
   "outputs": [
    {
     "name": "stdout",
     "output_type": "stream",
     "text": [
      "      1 \n",
      "    1 2 3 \n",
      "  1 2 3 4 5 \n",
      "1 2 3 4 5 6 7 \n",
      "  1 2 3 4 5 \n",
      "    1 2 3 \n",
      "      1 \n"
     ]
    }
   ],
   "source": [
    "n=7\n",
    "st=1\n",
    "sp=n//2\n",
    "for i in range(0,n):\n",
    "    num=1\n",
    "    for j in range(0,sp):\n",
    "        print(' ',end=' ')\n",
    "    for k in range(0,st):\n",
    "        print(num,end=' ')\n",
    "        num+=1\n",
    "    print()\n",
    "    if i<n//2:\n",
    "        sp-=1\n",
    "        st+=2\n",
    "    else:\n",
    "        sp+=1\n",
    "        st-=2"
   ]
  },
  {
   "cell_type": "code",
   "execution_count": 6,
   "id": "c9748755-77f9-42e4-9cf3-12524aff9a06",
   "metadata": {},
   "outputs": [
    {
     "name": "stdout",
     "output_type": "stream",
     "text": [
      "      1 \n",
      "    2 2 2 \n",
      "  3 3 3 3 3 \n",
      "4 4 4 4 4 4 4 \n",
      "  5 5 5 5 5 \n",
      "    6 6 6 \n",
      "      7 \n"
     ]
    }
   ],
   "source": [
    "n=7\n",
    "st=1\n",
    "sp=n//2\n",
    "for i in range(0,n):\n",
    "    num=i+1\n",
    "    for j in range(0,sp):\n",
    "        print(' ',end=' ')\n",
    "    for k in range(0,st):\n",
    "        print(num,end=' ')\n",
    "    print()\n",
    "    if i<n//2:\n",
    "        sp-=1\n",
    "        st+=2\n",
    "    else:\n",
    "        sp+=1\n",
    "        st-=2\n",
    "        "
   ]
  },
  {
   "cell_type": "code",
   "execution_count": 7,
   "id": "3b629780-bcc9-44bb-84f7-2867cf61b662",
   "metadata": {},
   "outputs": [
    {
     "name": "stdout",
     "output_type": "stream",
     "text": [
      "      7 \n",
      "    6 6 6 \n",
      "  5 5 5 5 5 \n",
      "4 4 4 4 4 4 4 \n",
      "  3 3 3 3 3 \n",
      "    2 2 2 \n",
      "      1 \n"
     ]
    }
   ],
   "source": [
    "n=7\n",
    "st=1\n",
    "sp=n//2\n",
    "for i in range(0,n):\n",
    "    num=n-i\n",
    "    for j in range(0,sp):\n",
    "        print(' ',end=' ')\n",
    "    for k in range(0,st):\n",
    "        print(num,end=' ')\n",
    "    print()\n",
    "    if i<n//2:\n",
    "        sp-=1\n",
    "        st+=2\n",
    "    else:\n",
    "        sp+=1\n",
    "        st-=2"
   ]
  },
  {
   "cell_type": "code",
   "execution_count": 8,
   "id": "694ad27d-0095-4584-a2c6-283867009783",
   "metadata": {},
   "outputs": [
    {
     "name": "stdout",
     "output_type": "stream",
     "text": [
      "      1 \n",
      "    2 2 2 \n",
      "  3 3 3 3 3 \n",
      "4 4 4 4 4 4 4 \n",
      "  3 3 3 3 3 \n",
      "    2 2 2 \n",
      "      1 \n"
     ]
    }
   ],
   "source": [
    "n=7\n",
    "sp=n//2\n",
    "st=1\n",
    "for i in range(0,n):\n",
    "    num=st//2+1\n",
    "    for j in range(0,sp):\n",
    "        print(' ',end=' ')\n",
    "    for k in range(0,st):\n",
    "        print(num,end=' ')\n",
    "    print()\n",
    "    if i<n//2:\n",
    "        sp-=1\n",
    "        st+=2\n",
    "    else:\n",
    "        sp+=1\n",
    "        st-=2"
   ]
  },
  {
   "cell_type": "code",
   "execution_count": 10,
   "id": "91c04512-59db-414d-8f0e-06882abf7c1a",
   "metadata": {},
   "outputs": [
    {
     "name": "stdout",
     "output_type": "stream",
     "text": [
      "      1 \n",
      "    3 2 1 \n",
      "  5 4 3 2 1 \n",
      "7 6 5 4 3 2 1 \n",
      "  5 4 3 2 1 \n",
      "    3 2 1 \n",
      "      1 \n"
     ]
    }
   ],
   "source": [
    "n=7\n",
    "sp=n//2\n",
    "st=1\n",
    "for i in range(0,n):\n",
    "    num=st\n",
    "    for j in range(0,sp):\n",
    "        print(' ',end=' ')\n",
    "    for k in range(0,st):\n",
    "        print(num,end=' ')\n",
    "        num-=1\n",
    "    print()\n",
    "    if i<n//2:\n",
    "        sp-=1\n",
    "        st+=2\n",
    "    else:\n",
    "        sp+=1\n",
    "        st-=2"
   ]
  },
  {
   "cell_type": "code",
   "execution_count": 13,
   "id": "512b8bd3-3b73-4c56-bf15-9b2af9021936",
   "metadata": {},
   "outputs": [
    {
     "name": "stdout",
     "output_type": "stream",
     "text": [
      "      1 \n",
      "    2 1 2 \n",
      "  3 2 1 2 3 \n",
      "4 3 2 1 2 3 4 \n",
      "  3 2 1 2 3 \n",
      "    2 1 2 \n",
      "      1 \n"
     ]
    }
   ],
   "source": [
    "n=7\n",
    "sp=n//2\n",
    "st=1\n",
    "for i in range(0,n):\n",
    "    num=st//2+1\n",
    "    for j in range(0,sp):\n",
    "        print(' ',end=' ')\n",
    "    for k in range(0,st):\n",
    "        print(num,end=' ')\n",
    "        num=num-1 if k<st//2 else num+1\n",
    "    print()\n",
    "    if i<n//2:\n",
    "        sp-=1\n",
    "        st+=2\n",
    "    else:\n",
    "        sp+=1\n",
    "        st-=2"
   ]
  },
  {
   "cell_type": "code",
   "execution_count": 14,
   "id": "1467eea4-283f-4474-b593-a6f5818b9757",
   "metadata": {},
   "outputs": [
    {
     "name": "stdout",
     "output_type": "stream",
     "text": [
      "        5 \n",
      "      4 5 4 \n",
      "    3 4 5 4 3 \n",
      "  2 3 4 5 4 3 2 \n",
      "1 2 3 4 5 4 3 2 1 \n",
      "  2 3 4 5 4 3 2 \n",
      "    3 4 5 4 3 \n",
      "      4 5 4 \n",
      "        5 \n"
     ]
    }
   ],
   "source": [
    "n=9\n",
    "st=1\n",
    "sp=n//2\n",
    "for i in range(0,n):\n",
    "    num=sp+1\n",
    "    for j in range(0,sp):\n",
    "        print(' ',end=' ')\n",
    "    for k in range(0,st):\n",
    "        print(num,end=' ' )\n",
    "        num=num+1 if k<st//2 else num-1\n",
    "    print()\n",
    "    if i<n//2:\n",
    "        sp-=1\n",
    "        st+=2\n",
    "    else:\n",
    "        sp+=1\n",
    "        st-=2"
   ]
  },
  {
   "cell_type": "code",
   "execution_count": 49,
   "id": "36fd3cc5-0e74-46f0-bd1f-91b68e60f75b",
   "metadata": {},
   "outputs": [
    {
     "name": "stdout",
     "output_type": "stream",
     "text": [
      "        1 \n",
      "      2 4 2 \n",
      "    1 2 3 2 1 \n",
      "  2 4 6 8 6 4 2 \n",
      "1 2 3 4 5 4 3 2 1 \n",
      "  2 4 6 8 6 4 2 \n",
      "    1 2 3 2 1 \n",
      "      2 4 2 \n",
      "        1 \n"
     ]
    }
   ],
   "source": [
    "n=9\n",
    "st=1\n",
    "sp=n//2\n",
    "for i in range(0,n):\n",
    "    if i%2==0:\n",
    "        num=1\n",
    "    else:\n",
    "        num=2\n",
    "    for j in range(0,sp):\n",
    "        print(' ',end=' ')\n",
    "    for k in range(0,st):\n",
    "        print(num,end=' ')\n",
    "        if i%2==0:\n",
    "            num=num+1 if k<st//2 else num-1\n",
    "        else:\n",
    "            num=num+2 if k<st//2 else num-2\n",
    "    print()\n",
    "    if i<n//2:\n",
    "        sp-=1\n",
    "        st+=2\n",
    "    else:\n",
    "        sp+=1\n",
    "        st-=2"
   ]
  },
  {
   "cell_type": "code",
   "execution_count": 51,
   "id": "8a354710-823b-402b-a02e-bf835ac78b65",
   "metadata": {},
   "outputs": [
    {
     "name": "stdout",
     "output_type": "stream",
     "text": [
      "      1 \n",
      "    1 2 1 \n",
      "  1 2 3 2 1 \n",
      "1 2 3 4 3 2 1 \n",
      "  1 2 3 2 1 \n",
      "    1 2 1 \n",
      "      1 \n"
     ]
    }
   ],
   "source": [
    "n=7\n",
    "sp=n//2\n",
    "st=1\n",
    "for i in range(0,n):\n",
    "    num=1\n",
    "    for j in range(0,sp):\n",
    "        print(' ',end=' ')\n",
    "    for k in range(0,st):\n",
    "        print(num,end=' ')\n",
    "        num=num+1 if k<st//2 else num-1\n",
    "    print()\n",
    "    if i<n//2:\n",
    "        sp-=1\n",
    "        st+=2\n",
    "    else:\n",
    "        sp+=1\n",
    "        st-=2\n",
    "    "
   ]
  },
  {
   "cell_type": "code",
   "execution_count": 53,
   "id": "fb8c4288-11f6-4991-b664-7a1559234820",
   "metadata": {},
   "outputs": [
    {
     "name": "stdout",
     "output_type": "stream",
     "text": [
      "1 2 4 5 10 20 25 50 100 "
     ]
    }
   ],
   "source": [
    "#TO FIND FACTORS OF GIVEN NO\n",
    "num=100\n",
    "for i in range(1,num+1):\n",
    "    if num%i==0:\n",
    "        print(i,end=' ')"
   ]
  },
  {
   "cell_type": "code",
   "execution_count": 74,
   "id": "c312f269-effb-4fe3-a63a-029e3ba08f8f",
   "metadata": {},
   "outputs": [
    {
     "name": "stdout",
     "output_type": "stream",
     "text": [
      "3 is PRIME\n"
     ]
    }
   ],
   "source": [
    "#TO CHECK GIVEN NO IS PRIME NO\n",
    "num=3\n",
    "if num>1:\n",
    "    for i in range(2,num//2+1):\n",
    "        if num%i==0:\n",
    "            print(f'{num} is NOT PRIME')\n",
    "            break\n",
    "    else:\n",
    "        print(f'{num} is PRIME')\n",
    "else:\n",
    "    print(f'{num} is NOT PRIME')"
   ]
  },
  {
   "cell_type": "code",
   "execution_count": 67,
   "id": "13216ca2-f6af-466f-ab67-194efd725e98",
   "metadata": {},
   "outputs": [
    {
     "name": "stdout",
     "output_type": "stream",
     "text": [
      "2 3 5 7 11 13 17 19 23 29 "
     ]
    }
   ],
   "source": [
    "#TO FIND PRIME NO IN GIVEN RANGE\n",
    "for num in range(1,31):\n",
    "    if num>1:\n",
    "        for i in range(2,num//2+1):\n",
    "            if num%i==0:\n",
    "                break\n",
    "        else:\n",
    "            print(num,end=' ')"
   ]
  },
  {
   "cell_type": "code",
   "execution_count": 1,
   "id": "b22cc893-848b-4c58-9080-bde520ef76a5",
   "metadata": {},
   "outputs": [
    {
     "name": "stdout",
     "output_type": "stream",
     "text": [
      "1 2 4 5 10 20 25 50 100 "
     ]
    }
   ],
   "source": [
    "num=100\n",
    "for i in range(1,num+1):\n",
    "    if (num%i==0):\n",
    "        print(i,end=' ')"
   ]
  },
  {
   "cell_type": "code",
   "execution_count": 2,
   "id": "2d6f6fe5-c0ea-470e-b0e8-cdc2e2ed6859",
   "metadata": {},
   "outputs": [
    {
     "name": "stdout",
     "output_type": "stream",
     "text": [
      "90 is not prime\n"
     ]
    }
   ],
   "source": [
    "num=90\n",
    "if num>1:\n",
    "    for i in range(2,num//2+1):\n",
    "        if (num%i==0):\n",
    "            print(f'{num} is not prime')\n",
    "            break\n",
    "    else:\n",
    "        print(f'{num} is prime')\n",
    "else:\n",
    "    print(f'{num} not is prime')"
   ]
  },
  {
   "cell_type": "code",
   "execution_count": 3,
   "id": "07f4cfd0-6317-47c8-a6c4-67a8d511e733",
   "metadata": {},
   "outputs": [
    {
     "name": "stdout",
     "output_type": "stream",
     "text": [
      "2 3 5 7 11 13 17 19 23 29 31 37 41 43 47 53 59 61 67 71 73 79 83 89 97 "
     ]
    }
   ],
   "source": [
    "for num in range(1,101):\n",
    "    if num>1:\n",
    "        for i in range(2,num//2+1):\n",
    "            if num%i==0:\n",
    "                break\n",
    "        else:\n",
    "            print(num,end=' ')"
   ]
  },
  {
   "cell_type": "code",
   "execution_count": 4,
   "id": "263334c5-1723-4b80-8bed-a288a49ce1ba",
   "metadata": {},
   "outputs": [
    {
     "name": "stdout",
     "output_type": "stream",
     "text": [
      "2 3 5 7 11 13 17 19 23 29 31 37 41 43 47 53 59 61 67 71 73 79 83 89 97 "
     ]
    }
   ],
   "source": [
    "count=0\n",
    "num=1\n",
    "while count!=25:\n",
    "    if num>1:\n",
    "        for i in range(2,num//2+1):\n",
    "            if (num%i==0):\n",
    "                break\n",
    "        else:\n",
    "            print(num,end=' ')\n",
    "            count+=1\n",
    "    num+=1"
   ]
  },
  {
   "cell_type": "code",
   "execution_count": 5,
   "id": "89cf9e20-bf91-40df-99a4-af8b4ef362cc",
   "metadata": {},
   "outputs": [
    {
     "name": "stdout",
     "output_type": "stream",
     "text": [
      "2 5 11 17 23 31 41 47 59 67 73 83 97 "
     ]
    }
   ],
   "source": [
    "count=0\n",
    "for num in range(1,101):\n",
    "    if num>1:\n",
    "        for i in range(2,num//2+1):\n",
    "            if (num%i==0):\n",
    "                break\n",
    "        else:\n",
    "            if count%2==0:\n",
    "                print(num,end=' ')\n",
    "            count+=1"
   ]
  },
  {
   "cell_type": "code",
   "execution_count": 22,
   "id": "5c13aefc-6b6a-4279-9dd2-a411aa2603e9",
   "metadata": {},
   "outputs": [
    {
     "name": "stdout",
     "output_type": "stream",
     "text": [
      "strong number\n"
     ]
    }
   ],
   "source": [
    "num=6\n",
    "sum=0\n",
    "for i in range(1,num//2+1):\n",
    "    if num%i==0:\n",
    "        sum=sum+i\n",
    "if num==sum:\n",
    "    print('strong number')\n",
    "else:\n",
    "    print('not strong number')"
   ]
  },
  {
   "cell_type": "code",
   "execution_count": 26,
   "id": "4121fdcc-cfd6-4e02-a3ba-be57a9393219",
   "metadata": {},
   "outputs": [
    {
     "name": "stdout",
     "output_type": "stream",
     "text": [
      "6 strong number\n",
      "28 strong number\n",
      "496 strong number\n",
      "8128 strong number\n"
     ]
    }
   ],
   "source": [
    "for num in range(1,10000):\n",
    "    sum=0\n",
    "    for i in range(1,num//2+1):\n",
    "        if num%i==0:\n",
    "            sum+=i\n",
    "    if num==sum:\n",
    "        print(f'{num} strong number')\n",
    "    "
   ]
  },
  {
   "cell_type": "code",
   "execution_count": 1,
   "id": "e4f99b73-1ea4-442c-88fd-c915bc3ff6a9",
   "metadata": {},
   "outputs": [
    {
     "name": "stdout",
     "output_type": "stream",
     "text": [
      "sum of digit 1324 is 10\n"
     ]
    }
   ],
   "source": [
    "num=1324\n",
    "n=num\n",
    "res=0\n",
    "while num!=0:\n",
    "    rem=num%10\n",
    "    num=num//10\n",
    "    res+=rem\n",
    "print(f'sum of digit {n} is {res}')"
   ]
  },
  {
   "cell_type": "code",
   "execution_count": 2,
   "id": "7d11b663-dfa2-4e3e-859d-9263f730eee6",
   "metadata": {},
   "outputs": [
    {
     "name": "stdout",
     "output_type": "stream",
     "text": [
      "product of digit 12345 is 120\n"
     ]
    }
   ],
   "source": [
    "num=12345\n",
    "n=num\n",
    "res=1\n",
    "while num!=0:\n",
    "    rem=num%10\n",
    "    num=num//10\n",
    "    res*=rem\n",
    "print(f'product of digit {n} is {res}')"
   ]
  },
  {
   "cell_type": "code",
   "execution_count": 3,
   "id": "164c7c81-174b-4631-b4a1-aaa24edb6b06",
   "metadata": {},
   "outputs": [
    {
     "name": "stdout",
     "output_type": "stream",
     "text": [
      "sum of digit 132568 is 16\n",
      "product of digit 132568 is 15\n"
     ]
    }
   ],
   "source": [
    "num=132568\n",
    "n=num\n",
    "Eres=0\n",
    "Ores=1\n",
    "while num!=0:\n",
    "    rem=num%10\n",
    "    num//=10\n",
    "    if rem%2==0:\n",
    "        Eres+=rem\n",
    "    else:\n",
    "        Ores*=rem\n",
    "print(f'sum of digit {n} is {Eres}')\n",
    "print(f'product of digit {n} is {Ores}')"
   ]
  },
  {
   "cell_type": "code",
   "execution_count": 4,
   "id": "936bf75c-98d2-42c3-bac6-9c1f707b94b9",
   "metadata": {},
   "outputs": [
    {
     "name": "stdout",
     "output_type": "stream",
     "text": [
      "3 2 7 "
     ]
    }
   ],
   "source": [
    "num=872364\n",
    "while num!=0:\n",
    "    rem=num%10\n",
    "    num//=10\n",
    "    if rem>1:\n",
    "        for i in range(2,rem//2+1):\n",
    "            if rem%i==0:\n",
    "                break\n",
    "        else:\n",
    "            print(rem,end=' ')"
   ]
  },
  {
   "cell_type": "code",
   "execution_count": 5,
   "id": "0780d945-a647-4708-9c2c-4298902d39cc",
   "metadata": {},
   "outputs": [
    {
     "name": "stdout",
     "output_type": "stream",
     "text": [
      "sum of prime digits of 872364 is 12\n"
     ]
    }
   ],
   "source": [
    "num=872364\n",
    "n=num\n",
    "res=0\n",
    "while num!=0:\n",
    "    rem=num%10\n",
    "    num//=10\n",
    "    if rem>1:\n",
    "        for i in range(2,rem//2+1):\n",
    "            if rem%i==0:\n",
    "                break\n",
    "        else:\n",
    "            res+=rem\n",
    "print(f'sum of prime digits of {n} is {res}')"
   ]
  },
  {
   "cell_type": "code",
   "execution_count": 6,
   "id": "03b76214-c903-42c9-a6bf-5a27193052c7",
   "metadata": {},
   "outputs": [
    {
     "name": "stdout",
     "output_type": "stream",
     "text": [
      "Given number 12 is niven number\n"
     ]
    }
   ],
   "source": [
    "num=12\n",
    "n=num\n",
    "res=0\n",
    "while num!=0:\n",
    "    rem=num%10\n",
    "    num//=10\n",
    "    res+=rem\n",
    "if n%res==0:\n",
    "    print(f'Given number {n} is niven number')\n",
    "else:\n",
    "    print(f'Given number {n} is not a niven number')"
   ]
  },
  {
   "cell_type": "code",
   "execution_count": 1,
   "id": "da89da4a-63a6-488a-b725-afb1411b1cd5",
   "metadata": {},
   "outputs": [
    {
     "name": "stdout",
     "output_type": "stream",
     "text": [
      "321\n"
     ]
    }
   ],
   "source": [
    "#PROGRAM TO REVERSE NUMBER\n",
    "num=123\n",
    "n=num\n",
    "rev=0\n",
    "while num!=0:\n",
    "    rem=num%10\n",
    "    num//=10\n",
    "    rev=rev*10+rem\n",
    "print(rev)"
   ]
  },
  {
   "cell_type": "code",
   "execution_count": 4,
   "id": "1c339d18-0d08-4248-bd28-c69b33c21cb5",
   "metadata": {},
   "outputs": [
    {
     "name": "stdout",
     "output_type": "stream",
     "text": [
      "121 is PALINDROME\n"
     ]
    }
   ],
   "source": [
    "#PROGRAM TO CHECK PALINDROME\n",
    "num=121\n",
    "n=num\n",
    "rev=0\n",
    "while num!=0:\n",
    "    rem=num%10\n",
    "    num//=10\n",
    "    rev=rev*10+rem\n",
    "if n==rev:\n",
    "    print(f'{n} is PALINDROME')\n",
    "else:\n",
    "    print(f'{n} is NOT PALINDROME')"
   ]
  },
  {
   "cell_type": "code",
   "execution_count": 8,
   "id": "016bf2b4-44df-4267-800d-9bd1cef79cb2",
   "metadata": {},
   "outputs": [
    {
     "name": "stdout",
     "output_type": "stream",
     "text": [
      "Number is PALIPRIME\n"
     ]
    }
   ],
   "source": [
    "#TO CHECK NUMBER IS PALIPRIME\n",
    "num=11\n",
    "n=num\n",
    "rev=0\n",
    "while num!=0:\n",
    "    rem=num%10\n",
    "    num//=10\n",
    "    rev=rev*10+rem\n",
    "if n==rev and n>1:\n",
    "    for i in range(2,n//2+1):\n",
    "        if n%i==0:\n",
    "            print('Number is not PALIPRIME')\n",
    "            break\n",
    "    else:\n",
    "        print('Number is PALIPRIME')\n",
    "else:\n",
    "    print('Number is not PALIPRIME')\n",
    "    "
   ]
  },
  {
   "cell_type": "code",
   "execution_count": 17,
   "id": "39078994-04b2-410e-9a7b-f866cb1bd02d",
   "metadata": {},
   "outputs": [
    {
     "name": "stdout",
     "output_type": "stream",
     "text": [
      "Number is EMIRP\n"
     ]
    }
   ],
   "source": [
    "#TO CHECK NUMBER IS EMIRP\n",
    "num=17\n",
    "n=num\n",
    "rev=0\n",
    "while num!=0:\n",
    "    rem=num%10\n",
    "    num//=10\n",
    "    rev=rev*10+rem\n",
    "if n!=rev:\n",
    "    for i in range(2,n//2+1):\n",
    "        if n%i==0:\n",
    "            print('Number is not EMIRP ')\n",
    "            break\n",
    "    else:\n",
    "        for j in range(2,rev//2+1):\n",
    "            if rev%j==0:\n",
    "                print('Number is not EMIRP')\n",
    "                break\n",
    "        else:\n",
    "            print('Number is EMIRP')\n",
    "else:\n",
    "    print('Number is not EMIRP')"
   ]
  },
  {
   "cell_type": "code",
   "execution_count": 20,
   "id": "7db307b6-78e3-47a3-9a10-1ba092c3a1c7",
   "metadata": {},
   "outputs": [
    {
     "name": "stdout",
     "output_type": "stream",
     "text": [
      "2 3 5 7 11 101 131 151 181 191 313 353 373 383 727 757 787 797 919 929 "
     ]
    }
   ],
   "source": [
    "#TO PRINT PALIPRIME NUMBERS IN GIVEN RANGE\n",
    "for num in range(1,1000):\n",
    "    n=num\n",
    "    rev=0\n",
    "    while num!=0:\n",
    "        rem=num%10\n",
    "        num//=10\n",
    "        rev=rev*10+rem\n",
    "    if n==rev and n>1:\n",
    "        for i in range(2,n//2+1):\n",
    "            if n%i==0:\n",
    "                break\n",
    "        else:\n",
    "            print(n,end=' ')"
   ]
  },
  {
   "cell_type": "code",
   "execution_count": 22,
   "id": "7d2c4048-8c37-4a4e-9bb9-6620e0065715",
   "metadata": {},
   "outputs": [
    {
     "name": "stdout",
     "output_type": "stream",
     "text": [
      "13 17 31 37 71 73 79 97 107 113 149 157 167 179 199 311 337 347 359 389 701 709 733 739 743 751 761 769 907 937 941 953 967 971 983 991 "
     ]
    }
   ],
   "source": [
    "for num in range(1,1000):\n",
    "    n=num\n",
    "    rev=0\n",
    "    while num!=0:\n",
    "        rem=num%10\n",
    "        num//=10\n",
    "        rev=rev*10+rem\n",
    "    if n!=rev:\n",
    "        for i in range(2,n//2+1):\n",
    "            if n%i==0:\n",
    "                break\n",
    "        else:\n",
    "            for j in range(2,rev//2+1):\n",
    "                if rev%j==0:\n",
    "                    break\n",
    "            else:\n",
    "                print(n,end=' ')"
   ]
  },
  {
   "cell_type": "code",
   "execution_count": 26,
   "id": "57d710a9-7a3d-4da6-b716-e10555a4535a",
   "metadata": {},
   "outputs": [
    {
     "name": "stdout",
     "output_type": "stream",
     "text": [
      "number 153 is ARMSTRONG NUMBER\n"
     ]
    }
   ],
   "source": [
    "#TO CHECK IF NUMBER IS ARMSTRONG NUMBER\n",
    "num=153\n",
    "n=num\n",
    "p=len(str(num))\n",
    "res=0\n",
    "while num!=0:\n",
    "    rem=num%10\n",
    "    num//=10\n",
    "    res+=rem**p\n",
    "if n==res:\n",
    "    print(f'number {n} is ARMSTRONG NUMBER')\n",
    "else:\n",
    "    print(f'number {n} is not ARMSTRONG NUMBER')"
   ]
  },
  {
   "cell_type": "code",
   "execution_count": 30,
   "id": "4a1a6191-f308-471e-951d-7c2e2fea5c4b",
   "metadata": {},
   "outputs": [
    {
     "name": "stdout",
     "output_type": "stream",
     "text": [
      "number 135 is DISARUM NUMBER\n"
     ]
    }
   ],
   "source": [
    "#TO CHECK IF NUMBER IS DISARUM NUMBER\n",
    "num=135\n",
    "n=num\n",
    "res=0\n",
    "p=len(str(num)) \n",
    "while num!=0:\n",
    "    rem=num%10\n",
    "    num//=10\n",
    "    res+=rem**p\n",
    "    p-=1\n",
    "if res==n:\n",
    "    print(f'number {n} is DISARUM NUMBER')\n",
    "else:\n",
    "    print(f'number {n} is  NOT DISARUM NUMBER')"
   ]
  },
  {
   "cell_type": "code",
   "execution_count": 32,
   "id": "3d2faabf-54de-4d89-a65b-b903700d7582",
   "metadata": {},
   "outputs": [
    {
     "name": "stdout",
     "output_type": "stream",
     "text": [
      "1 2 3 4 5 6 7 8 9 153 370 371 407 1634 8208 9474 "
     ]
    }
   ],
   "source": [
    "# TO PRINT ARMSTRONG NUMBER IN GIVEN RANGE\n",
    "for num in range(1,10000):\n",
    "    n=num\n",
    "    p=len(str(num))\n",
    "    res=0\n",
    "    while num!=0:\n",
    "        rem=num%10\n",
    "        num//=10\n",
    "        res+=rem**p\n",
    "    if n==res:\n",
    "        print(n,end=' ')"
   ]
  },
  {
   "cell_type": "code",
   "execution_count": 33,
   "id": "9dc80580-5900-4d6f-b4c3-412502943cb2",
   "metadata": {},
   "outputs": [
    {
     "name": "stdout",
     "output_type": "stream",
     "text": [
      "1 2 3 4 5 6 7 8 9 89 135 175 518 598 1306 1676 2427 "
     ]
    }
   ],
   "source": [
    "#TO PRINT DISARUM NUMBER IN GIVEN RANGE\n",
    "for num in range(1,10000):\n",
    "    n=num\n",
    "    res=0\n",
    "    p=len(str(num)) \n",
    "    while num!=0:\n",
    "        rem=num%10\n",
    "        num//=10\n",
    "        res+=rem**p\n",
    "        p-=1\n",
    "    if res==n:\n",
    "        print(n,end=' ')"
   ]
  },
  {
   "cell_type": "code",
   "execution_count": 3,
   "id": "e3846871-06de-4cbf-9063-e51119c86df9",
   "metadata": {},
   "outputs": [
    {
     "name": "stdout",
     "output_type": "stream",
     "text": [
      "10010\n"
     ]
    }
   ],
   "source": [
    "#CONVERT DECIMAL TO BINARY\n",
    "num=18\n",
    "res=0\n",
    "p=1\n",
    "while num!=0:\n",
    "    rem=num%2\n",
    "    num//=2\n",
    "    res+=rem*p\n",
    "    p*=10\n",
    "print(res)"
   ]
  },
  {
   "cell_type": "code",
   "execution_count": 7,
   "id": "104a51ce-fc8d-4e11-acef-68989c0bec0a",
   "metadata": {},
   "outputs": [
    {
     "name": "stdout",
     "output_type": "stream",
     "text": [
      "11\n"
     ]
    }
   ],
   "source": [
    "#CONVERT BINARY TO DECIMAL\n",
    "num=1011\n",
    "res=0\n",
    "p=0\n",
    "while num!=0:\n",
    "    rem=num%10\n",
    "    num//=10\n",
    "    res+=rem*2**p\n",
    "    p+=1\n",
    "print(res)\n",
    "    "
   ]
  },
  {
   "cell_type": "code",
   "execution_count": 8,
   "id": "304f0733-f4c8-49d7-a9e8-662c9d06c005",
   "metadata": {},
   "outputs": [
    {
     "name": "stdout",
     "output_type": "stream",
     "text": [
      "23638\n"
     ]
    }
   ],
   "source": [
    "#TO REPLACE 5 WITH 3\n",
    "num=25658\n",
    "res=0\n",
    "p=1\n",
    "while num!=0:\n",
    "    rem=num%10\n",
    "    num//=10\n",
    "    if rem==5:\n",
    "        rem=3\n",
    "    res+=rem*p\n",
    "    p*=10\n",
    "print(res)"
   ]
  },
  {
   "cell_type": "code",
   "execution_count": 19,
   "id": "6dd9b31a-e479-45b4-bf41-9c39433ba7b7",
   "metadata": {},
   "outputs": [
    {
     "name": "stdout",
     "output_type": "stream",
     "text": [
      "5040\n"
     ]
    }
   ],
   "source": [
    "#FACTORIAL OF GIVEN NUMBER\n",
    "n=7\n",
    "fact=1\n",
    "for i in range(1,n+1):\n",
    "    fact*=i\n",
    "print(fact)"
   ]
  },
  {
   "cell_type": "code",
   "execution_count": 44,
   "id": "c8642c73-4a39-40a1-ac04-85c62be61ac2",
   "metadata": {},
   "outputs": [
    {
     "name": "stdout",
     "output_type": "stream",
     "text": [
      "NOHTYP\n"
     ]
    }
   ],
   "source": [
    "#REVESE A STRING WIHOUT USING SLICING\n",
    "s='PYTHON'\n",
    "res=''\n",
    "for i in range(-1,-(len(s)+1),-1):\n",
    "    res+=s[i]\n",
    "print(res)"
   ]
  },
  {
   "cell_type": "code",
   "execution_count": 33,
   "id": "b05bab07-9eda-47a6-9ab0-1ee0a9e425f5",
   "metadata": {},
   "outputs": [
    {
     "name": "stdout",
     "output_type": "stream",
     "text": [
      "PALINDROME\n"
     ]
    }
   ],
   "source": [
    "#TO CHECK GIVEN STRING IS PALINDROME\n",
    "s='HANNAH'\n",
    "a=s[-1::-1]\n",
    "if a==s:\n",
    "    print('PALINDROME')\n",
    "else:\n",
    "    print('NOT PALINDROME')"
   ]
  },
  {
   "cell_type": "code",
   "execution_count": 48,
   "id": "2a039a41-44e7-4260-b05d-869c0696bbea",
   "metadata": {},
   "outputs": [
    {
     "name": "stdout",
     "output_type": "stream",
     "text": [
      "PALINDROME\n"
     ]
    }
   ],
   "source": [
    "#TO CHECK GIVEN STRING IS PALINDROME\n",
    "s='HANNAH'\n",
    "res=''\n",
    "for i in range(-1,-(len(s)+1),-1):\n",
    "    res+=s[i]\n",
    "if res==s:\n",
    "    print('PALINDROME')\n",
    "else:\n",
    "    print('NOT PALINDROME')\n"
   ]
  },
  {
   "cell_type": "code",
   "execution_count": 52,
   "id": "79770f8e-5c62-4029-8d6b-1ce82969dcba",
   "metadata": {},
   "outputs": [
    {
     "name": "stdout",
     "output_type": "stream",
     "text": [
      " PALINDROME\n"
     ]
    }
   ],
   "source": [
    "#TO CHECK GIVEN STRING IS PALINDROME WITHOUT REVERSING THE STRING\n",
    "s='HANNAH'\n",
    "for i in range(0,len(s)//2+1):\n",
    "    if s[i]!=s[-(i+1)]:\n",
    "        print('NOT PALINDROME')\n",
    "        break\n",
    "else:\n",
    "    print(' PALINDROME')"
   ]
  },
  {
   "cell_type": "code",
   "execution_count": 51,
   "id": "5de36f3b-a4a3-49fd-ab67-9c60378068b8",
   "metadata": {},
   "outputs": [
    {
     "name": "stdout",
     "output_type": "stream",
     "text": [
      "5\n"
     ]
    }
   ],
   "source": [
    "#TO PRINT LENGTH OF STRING\n",
    "s='ABCDE'\n",
    "count=0\n",
    "for i in s:\n",
    "    count+=1\n",
    "print(count)"
   ]
  },
  {
   "cell_type": "code",
   "execution_count": 56,
   "id": "c803f13f-9b9f-4744-8298-8bb2f188f3e6",
   "metadata": {},
   "outputs": [
    {
     "name": "stdout",
     "output_type": "stream",
     "text": [
      "PYTHON@123\n"
     ]
    }
   ],
   "source": [
    "#TO CONVERT LOWERCASE TO UPPERCASE\n",
    "s='Python@123'\n",
    "res=''\n",
    "for i in range(0,len(s)):\n",
    "    if 'a'<=s[i]<='z':\n",
    "        res+=chr(ord(s[i])-32)\n",
    "    else:\n",
    "        res+=s[i]\n",
    "print(res)"
   ]
  },
  {
   "cell_type": "code",
   "execution_count": 57,
   "id": "75511e19-30d9-4181-aea1-41c27e14c17e",
   "metadata": {},
   "outputs": [
    {
     "name": "stdout",
     "output_type": "stream",
     "text": [
      "python@123\n"
     ]
    }
   ],
   "source": [
    "#TO CONVERT UPPERCASE TO LOWERCASE\n",
    "s='Python@123'\n",
    "res=''\n",
    "for i in range(0,len(s)):\n",
    "    if 'A'<=s[i]<='Z':\n",
    "        res+=chr(ord(s[i])+32)\n",
    "    else:\n",
    "        res+=s[i]\n",
    "print(res)"
   ]
  },
  {
   "cell_type": "code",
   "execution_count": 58,
   "id": "6706c6b5-276f-4ed2-8efd-8227b50e1aa3",
   "metadata": {},
   "outputs": [
    {
     "name": "stdout",
     "output_type": "stream",
     "text": [
      "pYTHON@123\n"
     ]
    }
   ],
   "source": [
    "#TO CONVERT UPPERCASE TO LOWERCASE AND VICEVERSA\n",
    "s='Python@123'\n",
    "res=''\n",
    "for i in range(0,len(s)):\n",
    "    if 'A'<=s[i]<='Z':\n",
    "        res+=chr(ord(s[i])+32)\n",
    "    elif 'a'<=s[i]<='z':\n",
    "        res+=chr(ord(s[i])-32)\n",
    "    else:\n",
    "        res+=s[i]\n",
    "print(res)"
   ]
  },
  {
   "cell_type": "code",
   "execution_count": 59,
   "id": "d175722d-f1c1-4d29-ad2a-c169fc89c732",
   "metadata": {},
   "outputs": [
    {
     "name": "stdout",
     "output_type": "stream",
     "text": [
      "3\n"
     ]
    }
   ],
   "source": [
    "#TO COUNT OCCURANCE OF GIVEN STRING\n",
    "s='ENGINEERING'\n",
    "count=0\n",
    "ch='E'\n",
    "for i in range(0,len(s)):\n",
    "    if s[i]==ch:\n",
    "        count+=1\n",
    "print(count)"
   ]
  },
  {
   "cell_type": "code",
   "execution_count": 63,
   "id": "61c17eaa-ca62-4c39-8fb8-af2e2e350a21",
   "metadata": {},
   "outputs": [
    {
     "name": "stdout",
     "output_type": "stream",
     "text": [
      "0 5 6 "
     ]
    }
   ],
   "source": [
    "#TO PRINT INDEX OF GIVEN CHARACTER\n",
    "s='ENGINEERING'\n",
    "ch='E'\n",
    "for i in range(0,len(s)):\n",
    "    if s[i]==ch:\n",
    "        print(i,end=' ')"
   ]
  },
  {
   "cell_type": "code",
   "execution_count": null,
   "id": "55943362-e4aa-4bec-8923-9f6bdf7e000d",
   "metadata": {},
   "outputs": [
    {
     "name": "stdout",
     "output_type": "stream",
     "text": [
      "SPECIAL NUMBER\n"
     ]
    }
   ],
   "source": [
    "#TO CHECK GIVEN NUMBER IS SPECIAL NUMBER \n",
    "num=145\n",
    "n=num\n",
    "res=0\n",
    "while num!=0:\n",
    "    rem=num%10\n",
    "    num//=10\n",
    "    fact=1\n",
    "    for i in range(1,rem+1):\n",
    "        fact*=i\n",
    "    res+=fact\n",
    "if n==res:\n",
    "    print('SPECIAL NUMBER')\n",
    "else:\n",
    "    print('NOT SPECIAL NUMBER')"
   ]
  },
  {
   "cell_type": "code",
   "execution_count": 2,
   "id": "bb20f97c-e45d-49cc-9b10-8015a8fdfd36",
   "metadata": {},
   "outputs": [
    {
     "name": "stdout",
     "output_type": "stream",
     "text": [
      "ENGIR\n"
     ]
    }
   ],
   "source": [
    "#REMOVE DUPLICATES IN A STRING\n",
    "s='ENGINEERING'\n",
    "res=''\n",
    "for i in range(0,len(s)):\n",
    "    if s[i] not in res:\n",
    "        res+=s[i]\n",
    "print(res)"
   ]
  },
  {
   "cell_type": "code",
   "execution_count": 4,
   "id": "787c5f5f-c49f-48c4-a832-22a73f4ab1a3",
   "metadata": {},
   "outputs": [
    {
     "name": "stdout",
     "output_type": "stream",
     "text": [
      "E=3 N=3 G=2 I=2 R=1 "
     ]
    }
   ],
   "source": [
    "s='ENGINEERING'\n",
    "res=''\n",
    "for i in range(0,len(s)):\n",
    "    if s[i] not in res:\n",
    "        res+=s[i]\n",
    "        print(f'{s[i]}={s.count(s[i])}',end=' ')"
   ]
  },
  {
   "cell_type": "code",
   "execution_count": 13,
   "id": "dfd0fd48-a1aa-4172-a506-7d62b17be65a",
   "metadata": {},
   "outputs": [
    {
     "name": "stdout",
     "output_type": "stream",
     "text": [
      "E : 3  N : 3  G : 2  I : 2  R : 1  "
     ]
    }
   ],
   "source": [
    "s='ENGINEERING'\n",
    "D={}\n",
    "for i in range(0,len(s)):\n",
    "    if s[i] not in D:\n",
    "        D[s[i]]=1\n",
    "    else:\n",
    "        D[s[i]]+=1\n",
    "for k,v in D.items():\n",
    "    print(f'{k} : {v}',end='  ')"
   ]
  },
  {
   "cell_type": "code",
   "execution_count": 1,
   "id": "35f5c15c-fb77-4c98-b407-03f68707bb49",
   "metadata": {},
   "outputs": [
    {
     "name": "stdout",
     "output_type": "stream",
     "text": [
      "H HANNAH A ANNA N NN N A H "
     ]
    }
   ],
   "source": [
    "#TO PRINT SUBPALINDROMES IN GIVEN STRING\n",
    "s='HANNAH'\n",
    "for i in range(0,len(s)):\n",
    "    for j in range(i+1,len(s)+1):\n",
    "        ss=s[i:j]\n",
    "        if ss==ss[ : : -1]:\n",
    "            print(ss,end=' ')"
   ]
  },
  {
   "cell_type": "code",
   "execution_count": 17,
   "id": "c2f7d638-b247-4e90-8c16-275804098eec",
   "metadata": {},
   "outputs": [
    {
     "name": "stdout",
     "output_type": "stream",
     "text": [
      "H HANNAH A ANNA N NN N A H "
     ]
    }
   ],
   "source": [
    "s='HANNAH'\n",
    "for i in range(0,len(s)):\n",
    "    for j in range(i+1,len(s)+1):\n",
    "        ss=s[i:j]\n",
    "        for k in range(0,len(ss)//2+1):\n",
    "            if ss[k]!=ss[-(k+1)]:\n",
    "                break\n",
    "        else:\n",
    "            print(ss,end=' ')"
   ]
  },
  {
   "cell_type": "code",
   "execution_count": 8,
   "id": "6dd35746-1127-424c-90ac-b055677e8268",
   "metadata": {},
   "outputs": [
    {
     "name": "stdout",
     "output_type": "stream",
     "text": [
      "5\n"
     ]
    }
   ],
   "source": [
    "#TO COUNT VOWELS IN STRING\n",
    "s='ENGINEERING'\n",
    "vow='AEIOUaeiou'\n",
    "count=0\n",
    "for i in range(0,len(s)):\n",
    "    if s[i] in vow:\n",
    "        count+=1\n",
    "print(count)"
   ]
  },
  {
   "cell_type": "code",
   "execution_count": 12,
   "id": "1a1e205e-d538-43c8-a4b4-7b23e2fc73fe",
   "metadata": {},
   "outputs": [
    {
     "name": "stdout",
     "output_type": "stream",
     "text": [
      "EIEEI\n"
     ]
    }
   ],
   "source": [
    "#TO PRINT VOWELS IN STRING\n",
    "s='ENGINEERING'\n",
    "vow='AEIOUaeiou'\n",
    "res=''\n",
    "for i in range(0,len(s)):\n",
    "    if s[i] in vow:\n",
    "        res+=s[i]\n",
    "print(res)"
   ]
  },
  {
   "cell_type": "code",
   "execution_count": 14,
   "id": "62cf32e5-ee1d-42a2-8109-a25b5bcae5c1",
   "metadata": {},
   "outputs": [
    {
     "name": "stdout",
     "output_type": "stream",
     "text": [
      "6\n"
     ]
    }
   ],
   "source": [
    "#TO COUNT DIGITS IN GIVEN STRING\n",
    "s='AC12DC3KJ23A5'\n",
    "count=0\n",
    "for i in range(0,len(s)):\n",
    "    if '0'<=s[i]<='9':\n",
    "        count+=1\n",
    "print(count)"
   ]
  },
  {
   "cell_type": "code",
   "execution_count": 18,
   "id": "9bd9b93f-1922-4c46-83f1-046b02151ae0",
   "metadata": {},
   "outputs": [
    {
     "name": "stdout",
     "output_type": "stream",
     "text": [
      "7 2 3 5 "
     ]
    }
   ],
   "source": [
    "#TO PRINT PRIME NO IN STRING\n",
    "s='AB7E2J346A85'\n",
    "for i in range(0,len(s)):\n",
    "    if '0'<=s[i]<='9':\n",
    "        num=int(s[i])\n",
    "        if num>1:\n",
    "            for j in range(2,num//2+1):\n",
    "                if num%j==0:\n",
    "                    break\n",
    "            else:\n",
    "                print(num,end=' ')"
   ]
  },
  {
   "cell_type": "code",
   "execution_count": 3,
   "id": "63b6e467-772e-47d2-80b6-8cff54f1459c",
   "metadata": {},
   "outputs": [
    {
     "name": "stdout",
     "output_type": "stream",
     "text": [
      "GNIR@@NIGN@\n"
     ]
    }
   ],
   "source": [
    "s='ENGINEERING'\n",
    "res=''\n",
    "for i in range(-1,-(len(s)+1),-1):\n",
    "    if s[i]=='E':\n",
    "        res+='@'\n",
    "    else:\n",
    "        res+=s[i]\n",
    "print(res)"
   ]
  },
  {
   "cell_type": "code",
   "execution_count": 13,
   "id": "3b06ce93-7a5f-4a4a-a19c-22bd1e302c18",
   "metadata": {},
   "outputs": [
    {
     "name": "stdout",
     "output_type": "stream",
     "text": [
      "266\n"
     ]
    }
   ],
   "source": [
    "s='ABCD'\n",
    "res=0\n",
    "for i in range(0,len(s)):\n",
    "    res+=ord(s[i])\n",
    "print(res)"
   ]
  },
  {
   "cell_type": "code",
   "execution_count": 14,
   "id": "9ce7b0ed-d432-4bc1-8003-aac37251cf1a",
   "metadata": {},
   "outputs": [
    {
     "name": "stdout",
     "output_type": "stream",
     "text": [
      "['WE', 'ARE', 'HERE']\n"
     ]
    }
   ],
   "source": [
    "#SPLIT STRING WITHOUT USING SPLIT METHOD\n",
    "s='WE ARE HERE'\n",
    "l=[]\n",
    "ss=''\n",
    "for i in range(0,len(s)):\n",
    "    if s[i]!=' ':\n",
    "        ss+=s[i]\n",
    "    else:\n",
    "        l.append(ss)\n",
    "        ss=''\n",
    "l.append(ss)\n",
    "print(l)"
   ]
  },
  {
   "cell_type": "code",
   "execution_count": 16,
   "id": "193f8232-ef57-40df-876b-e336a27d011c",
   "metadata": {},
   "outputs": [
    {
     "name": "stdout",
     "output_type": "stream",
     "text": [
      "25\n"
     ]
    }
   ],
   "source": [
    "#TO PRINT HIGHEST OF VALUE IN LIST\n",
    "l=[15,14,18,25,17,15]\n",
    "H=l[0]\n",
    "for i in range(1,len(l)):\n",
    "    if H<l[i]:\n",
    "        H=l[i]\n",
    "print(H)\n",
    "        "
   ]
  },
  {
   "cell_type": "code",
   "execution_count": 24,
   "id": "0397c514-06ef-4c76-8525-5db618fc3cce",
   "metadata": {},
   "outputs": [
    {
     "name": "stdout",
     "output_type": "stream",
     "text": [
      "14\n"
     ]
    }
   ],
   "source": [
    "#TO PRINT LOWEST OF VALUE IN LIST\n",
    "l=[15,14,18,25,17,15]\n",
    "M=l[0]\n",
    "for i in range(1,len(l)):\n",
    "    if M>l[i]:\n",
    "        M=l[i]\n",
    "print(M)"
   ]
  },
  {
   "cell_type": "code",
   "execution_count": 10,
   "id": "8df20611-6119-4874-9e7d-c7dd6f2d0ada",
   "metadata": {},
   "outputs": [
    {
     "name": "stdout",
     "output_type": "stream",
     "text": [
      "[6, 13, 14, 1, 15, 10]\n"
     ]
    }
   ],
   "source": [
    "l=[10,15,1,14,13,6]\n",
    "for i in range(0,len(l)//2):\n",
    "    l[i],l[len(l)-(i+1)]=l[len(l)-(i+1)],l[i]\n",
    "print(l)\n",
    "    "
   ]
  },
  {
   "cell_type": "code",
   "execution_count": 3,
   "id": "220d0dfb-87f0-4ce3-8274-2f7e0590bd6c",
   "metadata": {},
   "outputs": [
    {
     "name": "stdout",
     "output_type": "stream",
     "text": [
      "[6, 13, 14, 1, 15, 10]\n"
     ]
    }
   ],
   "source": [
    "l=[10,15,1,14,13,6]\n",
    "i=0\n",
    "while i!=len(l)//2:\n",
    "    l[i],l[len(l)-i-1]=l[len(l)-i-1],l[i]\n",
    "    i+=1\n",
    "print(l)"
   ]
  },
  {
   "cell_type": "code",
   "execution_count": 56,
   "id": "61b58624-2ac8-4b44-ac98-8d2ddee7e4da",
   "metadata": {},
   "outputs": [
    {
     "name": "stdout",
     "output_type": "stream",
     "text": [
      "[11, 12, 13, 111, 23]\n"
     ]
    }
   ],
   "source": [
    "l=[11,12,13,11,12,111,23,23,23]\n",
    "nl=[]\n",
    "for i in range(0,len(l)):\n",
    "    if l[i] not in nl:\n",
    "        nl.append(l[i])\n",
    "print(nl)"
   ]
  },
  {
   "cell_type": "code",
   "execution_count": 2,
   "id": "cc4aa51a-b7a8-4c23-b76d-98babe1f4788",
   "metadata": {},
   "outputs": [
    {
     "name": "stdout",
     "output_type": "stream",
     "text": [
      "100\n"
     ]
    }
   ],
   "source": [
    "l=[15,14,18,25,17,15,100]\n",
    "H=l[0]\n",
    "i=1\n",
    "while i!=len(l):\n",
    "    if H<l[i]:\n",
    "        H=l[i]\n",
    "    i+=1\n",
    "print(H)"
   ]
  },
  {
   "cell_type": "code",
   "execution_count": 12,
   "id": "4a53615a-3247-4261-94a9-a83e238bc76d",
   "metadata": {},
   "outputs": [
    {
     "name": "stdout",
     "output_type": "stream",
     "text": [
      "12 10 2 "
     ]
    }
   ],
   "source": [
    "l=[12,13,10,15,17,15,2]\n",
    "for i in range(0,len(l)):\n",
    "    if l[i]%2==0:\n",
    "        print(l[i],end=' ')"
   ]
  },
  {
   "cell_type": "code",
   "execution_count": 14,
   "id": "b80a24b0-cb79-4ed5-b430-483239105ffa",
   "metadata": {},
   "outputs": [
    {
     "name": "stdout",
     "output_type": "stream",
     "text": [
      "12 10 2 "
     ]
    }
   ],
   "source": [
    "l=[12,13,10,15,17,15,2]\n",
    "i=0\n",
    "while i!=len(l):\n",
    "    if l[i]%2==0:\n",
    "        print(l[i],end=' ')\n",
    "    i+=1"
   ]
  },
  {
   "cell_type": "code",
   "execution_count": 15,
   "id": "d67bdc02-420c-4cdf-9e9e-190eeda6b6f1",
   "metadata": {},
   "outputs": [
    {
     "name": "stdout",
     "output_type": "stream",
     "text": [
      "12 10 17 2 "
     ]
    }
   ],
   "source": [
    "l=[12,13,10,15,17,15,2]\n",
    "for i in range(0,len(l)):\n",
    "    if i%2==0:\n",
    "        print(l[i],end=' ')"
   ]
  },
  {
   "cell_type": "code",
   "execution_count": 16,
   "id": "513d4950-083e-4d30-9212-5e30194ccf99",
   "metadata": {},
   "outputs": [
    {
     "name": "stdout",
     "output_type": "stream",
     "text": [
      "12 10 17 2 "
     ]
    }
   ],
   "source": [
    "l=[12,13,10,15,17,15,2]\n",
    "i=0\n",
    "while i!=len(l):\n",
    "    if i%2==0:\n",
    "        print(l[i],end=' ')\n",
    "    i+=1"
   ]
  },
  {
   "cell_type": "code",
   "execution_count": 17,
   "id": "242a3dc8-3459-4a2c-b1e0-fc0d01659019",
   "metadata": {},
   "outputs": [
    {
     "name": "stdout",
     "output_type": "stream",
     "text": [
      "13 15 17 15 "
     ]
    }
   ],
   "source": [
    "l=[12,13,10,15,17,15,2]\n",
    "for i in range(0,len(l)):\n",
    "    if l[i]%2!=0:\n",
    "        print(l[i],end=' ')"
   ]
  },
  {
   "cell_type": "code",
   "execution_count": 18,
   "id": "b28158f1-4e7c-46d5-b2d9-e1c7098d607b",
   "metadata": {},
   "outputs": [
    {
     "name": "stdout",
     "output_type": "stream",
     "text": [
      "13 15 17 15 "
     ]
    }
   ],
   "source": [
    "l=[12,13,10,15,17,15,2]\n",
    "i=0\n",
    "while i!=len(l):\n",
    "    if l[i]%2!=0:\n",
    "        print(l[i],end=' ')\n",
    "    i+=1"
   ]
  },
  {
   "cell_type": "code",
   "execution_count": 19,
   "id": "0b176d94-2964-4a07-b0b9-1465083ca470",
   "metadata": {},
   "outputs": [
    {
     "name": "stdout",
     "output_type": "stream",
     "text": [
      "13 15 15 "
     ]
    }
   ],
   "source": [
    "l=[12,13,10,15,17,15,2]\n",
    "for i in range(0,len(l)):\n",
    "    if i%2!=0:\n",
    "        print(l[i],end=' ')"
   ]
  },
  {
   "cell_type": "code",
   "execution_count": 21,
   "id": "f028c8bd-c906-4473-8d8c-3641fe37a63f",
   "metadata": {},
   "outputs": [
    {
     "name": "stdout",
     "output_type": "stream",
     "text": [
      "13 15 15 "
     ]
    }
   ],
   "source": [
    "l=[12,13,10,15,17,15,2]\n",
    "i=0\n",
    "while i!=len(l):\n",
    "    if i%2!=0:\n",
    "        print(l[i],end=' ')\n",
    "    i+=1"
   ]
  },
  {
   "cell_type": "code",
   "execution_count": 22,
   "id": "c7a51ad3-a3aa-4dc8-9848-5d34fae0a2eb",
   "metadata": {},
   "outputs": [
    {
     "name": "stdout",
     "output_type": "stream",
     "text": [
      "12 13 12 10 "
     ]
    }
   ],
   "source": [
    "#TO PRINT FIRST HALF OF LIST\n",
    "l=[12,13,12,10,15,17,16]\n",
    "for i in range(0,len(l)//2+1):\n",
    "    print(l[i],end=' ')"
   ]
  },
  {
   "cell_type": "code",
   "execution_count": 29,
   "id": "80b4b562-54a1-4fd8-9111-f696281d0e3f",
   "metadata": {},
   "outputs": [
    {
     "name": "stdout",
     "output_type": "stream",
     "text": [
      "10 15 17 16 "
     ]
    }
   ],
   "source": [
    "#TO PRINT SECOND HALF OF LIST\n",
    "l=[12,13,12,10,15,17,16]\n",
    "for i in range(len(l)//2,len(l)):\n",
    "    print(l[i],end=' ')"
   ]
  },
  {
   "cell_type": "code",
   "execution_count": 30,
   "id": "b381c581-9a76-4b3c-a7e5-f098563a228d",
   "metadata": {},
   "outputs": [
    {
     "name": "stdout",
     "output_type": "stream",
     "text": [
      "[12, 10, 16, 13, 19, 17]\n"
     ]
    }
   ],
   "source": [
    "l=[12,13,19,10,17,16]\n",
    "El=[]\n",
    "Ol=[]\n",
    "for i in range(0,len(l)):\n",
    "    if l[i]%2==0:\n",
    "        El.append(l[i])\n",
    "    else:\n",
    "        Ol.append(l[i])\n",
    "print(El+Ol)"
   ]
  },
  {
   "cell_type": "code",
   "execution_count": 64,
   "id": "e5dd88bf-e82b-4922-be21-6b062a4bdbb7",
   "metadata": {},
   "outputs": [
    {
     "name": "stdout",
     "output_type": "stream",
     "text": [
      "[20, 10, 40, 10, 10, 20, 10]\n"
     ]
    }
   ],
   "source": [
    "l=[2,3,4,5,1,2,7]\n",
    "for i in range(0,len(l)):\n",
    "    if l[i]==4 or l[i]==2:\n",
    "        l[i]*=10\n",
    "    else:\n",
    "        l[i]=10\n",
    "print(l)"
   ]
  },
  {
   "cell_type": "code",
   "execution_count": 119,
   "id": "067b7f89-e2ca-44b6-8c17-58196480ae9b",
   "metadata": {},
   "outputs": [
    {
     "name": "stdout",
     "output_type": "stream",
     "text": [
      "REST TAKE NEVER WE\n"
     ]
    }
   ],
   "source": [
    "s='WE NEVER TAKE REST'\n",
    "l=[]\n",
    "ss=''\n",
    "for i in range(0,len(s)):\n",
    "    if s[i]!=' ':\n",
    "        ss+=s[i]\n",
    "    else:\n",
    "        l.append(ss)\n",
    "        ss=''\n",
    "l.append(ss)\n",
    "for j in range(0,len(l)//2):\n",
    "    l[j],l[len(l)-j-1]=l[len(l)-j-1],l[j]\n",
    "\n",
    "print(' '.join(l))"
   ]
  },
  {
   "cell_type": "code",
   "execution_count": 4,
   "id": "2fd66019-01c4-4e47-99da-5def8e94283e",
   "metadata": {},
   "outputs": [
    {
     "name": "stdout",
     "output_type": "stream",
     "text": [
      "REST TAKE NEVER WE\n"
     ]
    }
   ],
   "source": [
    "s='WE NEVER TAKE REST'\n",
    "ss=''\n",
    "res=''\n",
    "for i in range(0,len(s)):\n",
    "    if s[i]!=' ':\n",
    "        ss+=s[i]\n",
    "    else:\n",
    "        res=ss+' '+res\n",
    "        ss=''\n",
    "res=ss+' '+res\n",
    "print(res[:-1])"
   ]
  },
  {
   "cell_type": "code",
   "execution_count": 3,
   "id": "44b0eef6-e7a3-40ac-bc12-053c9acd7e42",
   "metadata": {},
   "outputs": [
    {
     "name": "stdout",
     "output_type": "stream",
     "text": [
      "REST TAKE NEVER WE\n"
     ]
    }
   ],
   "source": [
    "s='WE NEVER TAKE REST'\n",
    "l=[]\n",
    "ss=''\n",
    "for i in range(0,len(s)):\n",
    "    if s[i]!=' ':\n",
    "        ss+=s[i]\n",
    "    else:\n",
    "        l.insert(0,ss)\n",
    "        ss=''\n",
    "l.insert(0,ss)\n",
    "print(' '.join(l))"
   ]
  },
  {
   "cell_type": "code",
   "execution_count": 9,
   "id": "fd8f91d2-60b9-4eda-ac84-36d28f9341b0",
   "metadata": {},
   "outputs": [
    {
     "name": "stdout",
     "output_type": "stream",
     "text": [
      "EW REVEN EKAT TSER\n"
     ]
    }
   ],
   "source": [
    "s='WE NEVER TAKE REST'\n",
    "l=s.split()\n",
    "for i in range(0,len(l)):\n",
    "    l[i]=l[i][::-1]\n",
    "print(' '.join(l))"
   ]
  },
  {
   "cell_type": "code",
   "execution_count": 11,
   "id": "625d3d28-5062-416d-beff-1e22b97afac4",
   "metadata": {},
   "outputs": [
    {
     "name": "stdout",
     "output_type": "stream",
     "text": [
      "EW REVEN EKAT TSER\n"
     ]
    }
   ],
   "source": [
    "s='WE NEVER TAKE REST'\n",
    "ss=''\n",
    "res=''\n",
    "for i in range(0,len(s)):\n",
    "    if s[i]!=' ':\n",
    "        ss+=s[i]\n",
    "    else:\n",
    "        res=res+' '+ss[::-1]\n",
    "        ss=''\n",
    "res=res+' '+ss[::-1]\n",
    "print(res[1:])\n"
   ]
  },
  {
   "cell_type": "code",
   "execution_count": 25,
   "id": "a69306f9-9244-4fbc-9468-672e1e1b97ba",
   "metadata": {},
   "outputs": [
    {
     "name": "stdout",
     "output_type": "stream",
     "text": [
      "E 3 N 3 "
     ]
    }
   ],
   "source": [
    "s='ENGINEERING'\n",
    "d={}\n",
    "values=[]\n",
    "for i in range(0,len(s)):\n",
    "    if s[i] not in d:\n",
    "        d[s[i]]=1\n",
    "    else:\n",
    "        d[s[i]]+=1\n",
    "for v in d.values():\n",
    "    values.append(v)\n",
    "H=values[0]\n",
    "for i in range(0,len(values)):\n",
    "    if H<values[i]:\n",
    "        H=values[i]\n",
    "for k,v in d.items():\n",
    "    if H==v:\n",
    "        print(f'{k}',end=' ')"
   ]
  },
  {
   "cell_type": "code",
   "execution_count": 2,
   "id": "e5321475-f6b7-491e-b92a-9c52815d38e4",
   "metadata": {},
   "outputs": [
    {
     "name": "stdout",
     "output_type": "stream",
     "text": [
      "TRAINED\n"
     ]
    }
   ],
   "source": [
    "#TO PRINT LENGTHEST WORD IN STRING\n",
    "s='I AM BLIND BUT I AM TRAINED'\n",
    "l=s.split()\n",
    "d={}\n",
    "for i in range(0,len(l)):\n",
    "    if l[i] not in d:\n",
    "        d[l[i]]=len(l[i])\n",
    "H=max(d.values())\n",
    "for k,v in d.items():\n",
    "    if H==v:\n",
    "        print(k)"
   ]
  },
  {
   "cell_type": "code",
   "execution_count": 4,
   "id": "04a10b0b-8dd3-4e7d-8a77-5069ac5419cd",
   "metadata": {},
   "outputs": [
    {
     "name": "stdout",
     "output_type": "stream",
     "text": [
      "10 13 22 23 14 "
     ]
    }
   ],
   "source": [
    "#TO PRINT UNIQUE VALUE IN A LIST\n",
    "l=[10,12,13,12,22,23,14,12]\n",
    "for i in range(0,len(l)):\n",
    "    if l.count(l[i])==1:\n",
    "        print(l[i],end=' ')"
   ]
  },
  {
   "cell_type": "code",
   "execution_count": 6,
   "id": "e6df5c4d-a69c-43b8-8847-2acaf06eae4b",
   "metadata": {},
   "outputs": [
    {
     "name": "stdout",
     "output_type": "stream",
     "text": [
      "10 12 13 "
     ]
    }
   ],
   "source": [
    "#TO PRINT DUPLICATES IN LIST\n",
    "l=[10,12,13,12,10,13,14,12,9]\n",
    "pl=[]\n",
    "for i in range(0,len(l)):\n",
    "    if l.count(l[i])>1 and l[i] not in pl:\n",
    "        print(l[i],end=' ')\n",
    "        pl.append(l[i])"
   ]
  },
  {
   "cell_type": "code",
   "execution_count": 7,
   "id": "e58c70d2-5efc-4224-a2be-6bf7c8b63282",
   "metadata": {},
   "outputs": [
    {
     "name": "stdout",
     "output_type": "stream",
     "text": [
      "2 17 19 "
     ]
    }
   ],
   "source": [
    "#TO PRINT PRIME VALUES IN A LIST\n",
    "l=[2,12,24,15,17,19]\n",
    "for i in  range(0,len(l)):\n",
    "    if l[i]>1:\n",
    "        for j in range(2,l[i]//2+1):\n",
    "            if l[i]%j==0:\n",
    "                break\n",
    "        else:\n",
    "            print(l[i],end=' ')"
   ]
  },
  {
   "cell_type": "code",
   "execution_count": 20,
   "id": "a839c006-805e-4de2-bf32-6971c78b7cdc",
   "metadata": {},
   "outputs": [
    {
     "name": "stdout",
     "output_type": "stream",
     "text": [
      "3a2b1a3c3d2b1c\n"
     ]
    }
   ],
   "source": [
    "s='aaabbacccdddbbc'\n",
    "count=1\n",
    "res=''\n",
    "for i in range(0,len(s)-1):\n",
    "    if s[i]==s[i+1]:\n",
    "        count+=1\n",
    "    else:\n",
    "        res+=str(count)+s[i]\n",
    "        count=1\n",
    "res+=str(count)+s[i+1]\n",
    "print(res,)"
   ]
  },
  {
   "cell_type": "code",
   "execution_count": 18,
   "id": "bbc40c6d-ba3e-4147-8d82-8aecd1a41002",
   "metadata": {},
   "outputs": [
    {
     "name": "stdout",
     "output_type": "stream",
     "text": [
      "aaaaa\n"
     ]
    }
   ],
   "source": [
    "s='aaabbbbccaaaaacccc'\n",
    "d={}\n",
    "count=1\n",
    "for i in range(0,len(s)-1):\n",
    "    if s[i]==s[i+1]:\n",
    "        count+=1\n",
    "    else:\n",
    "        d[s[i]*count]=count\n",
    "        count=1\n",
    "d[s[i]*count]=count\n",
    "H=max(d.values())\n",
    "for k,v in d.items():\n",
    "    if H==v:\n",
    "        print(k)\n",
    "        "
   ]
  },
  {
   "cell_type": "code",
   "execution_count": 7,
   "id": "a32ebc90-ff4a-4581-bf97-75060a3f02a3",
   "metadata": {},
   "outputs": [
    {
     "name": "stdout",
     "output_type": "stream",
     "text": [
      "{'abdc': 4, 'abc': 3, 'abxcde': 6}\n",
      "abxcde\n"
     ]
    }
   ],
   "source": [
    "#TO PRINT LARGHEST SUBSTRING WITHOUT REPEATING \n",
    "s='abdcabcabxcde'\n",
    "res=''\n",
    "d={}\n",
    "for i in range(0,len(s)):\n",
    "    if s[i] not in res:\n",
    "        res+=s[i]\n",
    "    else:\n",
    "        d[res]=len(res)\n",
    "        res=s[i]\n",
    "d[res]=len(res)\n",
    "print(d)\n",
    "h=max(d.values())\n",
    "for k,v in d.items():\n",
    "    if h==v:\n",
    "        print(k)\n",
    "    \n",
    "        \n"
   ]
  },
  {
   "cell_type": "code",
   "execution_count": null,
   "id": "80ef7c90-b169-4e59-83a1-9fc679f383f0",
   "metadata": {},
   "outputs": [
    {
     "name": "stdout",
     "output_type": "stream",
     "text": [
      "abxcde\n"
     ]
    }
   ],
   "source": [
    "s='abdcabcabxcde'\n",
    "d={}\n",
    "res=''\n",
    "for i in range(0,len(s)):\n",
    "    if s[i] not in res:\n",
    "        res+=s[i]\n",
    "    else:\n",
    "        d[res]=len(res)\n",
    "        res=s[i]\n",
    "d[res]=len(res)\n",
    "h=max(d.values())\n",
    "print(h)"
   ]
  },
  {
   "cell_type": "code",
   "execution_count": 13,
   "id": "a01edcba-7e92-43a3-b796-5c041de229d8",
   "metadata": {},
   "outputs": [
    {
     "name": "stdout",
     "output_type": "stream",
     "text": [
      "6\n"
     ]
    }
   ],
   "source": [
    "s='abdcabcabxcde'\n",
    "res=''\n",
    "h=0\n",
    "for i in range(0,len(s)):\n",
    "    if s[i] not in res:\n",
    "        res+=s[i]\n",
    "    else:\n",
    "        if h<len(res):\n",
    "            h=len(res)\n",
    "        res=s[i]\n",
    "if h<len(res):\n",
    "    h=len(res)\n",
    "    #res=s[i]\n",
    "print(h)\n"
   ]
  },
  {
   "cell_type": "code",
   "execution_count": 47,
   "id": "fbecf8da-7341-451f-b65c-fcb3d3423293",
   "metadata": {},
   "outputs": [
    {
     "name": "stdout",
     "output_type": "stream",
     "text": [
      "1 5\n",
      "2 4\n"
     ]
    }
   ],
   "source": [
    "l=[1,2,3,4,5,6,7]\n",
    "res=6\n",
    "for i in range(0,len(l)-1):\n",
    "    for j in range(i+1,len(l)):\n",
    "        if l[i]+l[j]==res:\n",
    "            print(l[i],l[j])"
   ]
  },
  {
   "cell_type": "code",
   "execution_count": 1,
   "id": "c02016fd-ffab-4221-85e1-2bd6bf188d46",
   "metadata": {},
   "outputs": [
    {
     "name": "stdout",
     "output_type": "stream",
     "text": [
      "PANAGRAM\n"
     ]
    }
   ],
   "source": [
    "#PANAGRAM\n",
    "s1='The quick brown fox jumps over the lazy dog'\n",
    "s2=s1.upper()\n",
    "for i in range(65,91):\n",
    "    if chr(i) not in s2:\n",
    "        print('NOT PANAGRAM')\n",
    "        break\n",
    "else:\n",
    "    print('PANAGRAM')"
   ]
  },
  {
   "cell_type": "code",
   "execution_count": 5,
   "id": "addf1a10-057c-4914-8af3-32e0a60e01ee",
   "metadata": {},
   "outputs": [
    {
     "name": "stdout",
     "output_type": "stream",
     "text": [
      "[10, 9, 11, 15, 19, 0, 0, 0]\n"
     ]
    }
   ],
   "source": [
    "l=[10,0,9,0,11,15,0,19]\n",
    "for i in range(0,l.count(0)):\n",
    "    for j in range(0,len(l)-i-1):\n",
    "        if l[j]==0:\n",
    "            l[j],l[j+1]=l[j+1],l[j]\n",
    "print(l)"
   ]
  },
  {
   "cell_type": "code",
   "execution_count": 6,
   "id": "5e4ab253-7679-4399-ab6b-bac4c8f486e7",
   "metadata": {},
   "outputs": [
    {
     "name": "stdout",
     "output_type": "stream",
     "text": [
      "[2, 3, 4, 5, 9]\n"
     ]
    }
   ],
   "source": [
    "l=[9,5,4,3,2]\n",
    "for i in range(0,len(l)-1):\n",
    "    for j in range(0,len(l)-i-1):\n",
    "        if l[j]>l[j+1]:\n",
    "            l[j],l[j+1]=l[j+1],l[j]\n",
    "print(l)"
   ]
  },
  {
   "cell_type": "code",
   "execution_count": 7,
   "id": "0bba6d8e-76a4-4964-b988-7851fbbcc480",
   "metadata": {},
   "outputs": [
    {
     "name": "stdout",
     "output_type": "stream",
     "text": [
      "[3, 7, 9, 10, 11, 12]\n"
     ]
    }
   ],
   "source": [
    "l=[10,3,11,12,7,9]\n",
    "for i in range(0,len(l)-1):\n",
    "    m=i\n",
    "    for j in range(i+1,len(l)):\n",
    "        if l[m]>l[j]:\n",
    "            m=j\n",
    "    l[i],l[m]=l[m],l[i]\n",
    "print(l)"
   ]
  },
  {
   "cell_type": "code",
   "execution_count": 5,
   "id": "b07f3239-a2d8-42f6-abb1-dfae3a3c4035",
   "metadata": {},
   "outputs": [
    {
     "name": "stdout",
     "output_type": "stream",
     "text": [
      "25\n"
     ]
    }
   ],
   "source": [
    "#TO PRINT SECOND HIGHEST VALUE\n",
    "l=[25,15,10,13,12,71,14]\n",
    "for i in range(0,2):\n",
    "    for j in range(0,len(l)-i-1):\n",
    "        if l[j]>l[j+1]:\n",
    "            l[j],l[j+1]=l[j+1],l[j]\n",
    "print(l[-2])"
   ]
  },
  {
   "cell_type": "code",
   "execution_count": 6,
   "id": "8d71a150-fbe7-4455-bfb3-ae41181c9110",
   "metadata": {},
   "outputs": [
    {
     "name": "stdout",
     "output_type": "stream",
     "text": [
      "[15, 12, 13, 14, 11]\n"
     ]
    }
   ],
   "source": [
    "#SWAP FIRST AND LAST DIGITS\n",
    "l=[11,12,13,14,15]\n",
    "l[0],l[-1]=l[-1],l[0]\n",
    "print(l)"
   ]
  },
  {
   "cell_type": "code",
   "execution_count": 7,
   "id": "303d3dc9-b06a-44c0-ae1d-3055db42fefb",
   "metadata": {},
   "outputs": [
    {
     "name": "stdout",
     "output_type": "stream",
     "text": [
      "[10, 13, 12, 25, 15]\n"
     ]
    }
   ],
   "source": [
    "#CLOCKWISE ROTATION\n",
    "l=[25,15,10,13,12]\n",
    "for i in range(0,2):\n",
    "    val=l.pop(0)\n",
    "    l.append(val)\n",
    "print(l)"
   ]
  },
  {
   "cell_type": "code",
   "execution_count": 8,
   "id": "bd2dc721-eed1-43cd-b8ae-291f269fff28",
   "metadata": {},
   "outputs": [
    {
     "name": "stdout",
     "output_type": "stream",
     "text": [
      "[13, 12, 25, 15, 10]\n"
     ]
    }
   ],
   "source": [
    "#ANTICLOCKWISE ROTATION\n",
    "l=[25,15,10,13,12]\n",
    "for i in range(0,2):\n",
    "    val=l.pop()\n",
    "    l.insert(0,val)\n",
    "print(l)"
   ]
  },
  {
   "cell_type": "code",
   "execution_count": 10,
   "id": "e7fe69fc-b906-4505-b19e-5999d4557ef9",
   "metadata": {},
   "outputs": [
    {
     "name": "stdout",
     "output_type": "stream",
     "text": [
      "BCDA CDAB DABC ABCD "
     ]
    }
   ],
   "source": [
    "#TO PRINT ALL THE CLOCKWISE RATATION\n",
    "s='ABCD'\n",
    "l=list(s)\n",
    "for i in range(0,len(s)):\n",
    "    val=l.pop(0)\n",
    "    l.append(val)\n",
    "    print(''.join(l),end=' ')"
   ]
  },
  {
   "cell_type": "code",
   "execution_count": 13,
   "id": "44dd2715-46fe-49f8-b5b8-dfb282b479ae",
   "metadata": {},
   "outputs": [
    {
     "name": "stdout",
     "output_type": "stream",
     "text": [
      "YES\n"
     ]
    }
   ],
   "source": [
    "s1='ABCD'\n",
    "s2='CDAB'\n",
    "l=list(s1)\n",
    "for i in range(0,len(l)):\n",
    "    val=l.pop(0)\n",
    "    l.append(val)\n",
    "    if s2==''.join(l):\n",
    "        print('YES')\n",
    "        break\n",
    "else:\n",
    "    print('NO')"
   ]
  },
  {
   "cell_type": "code",
   "execution_count": 28,
   "id": "89191d24-a023-4172-9633-5f3219e82f76",
   "metadata": {},
   "outputs": [
    {
     "name": "stdout",
     "output_type": "stream",
     "text": [
      "Prime No\n"
     ]
    }
   ],
   "source": [
    "#PRIME NO USING RECURSION\n",
    "def PrimeR(num,i):\n",
    "    if num<=1 or num%i==0:\n",
    "        return False\n",
    "    if i==num//2+1:\n",
    "        return True\n",
    "    return PrimeR(num,i+1)\n",
    "\n",
    "if PrimeR(11,2):\n",
    "    print('Prime No')\n",
    "else:\n",
    "    print(\"NOT Prime No\")"
   ]
  },
  {
   "cell_type": "code",
   "execution_count": 27,
   "id": "bf850de9-ae25-4a90-959d-f9d707747d53",
   "metadata": {},
   "outputs": [
    {
     "data": {
      "text/plain": [
       "6"
      ]
     },
     "execution_count": 27,
     "metadata": {},
     "output_type": "execute_result"
    }
   ],
   "source": [
    "#TO ADD DIGITS IN A NUMBER USING RECURSION\n",
    "def AddNo(num):\n",
    "    if num==0:\n",
    "        return 0\n",
    "    return num%10 + AddNo(num//10)\n",
    "\n",
    "AddNo(123)"
   ]
  },
  {
   "cell_type": "code",
   "execution_count": 26,
   "id": "218a631e-ed1b-46a9-b51f-176e5db8ec06",
   "metadata": {},
   "outputs": [
    {
     "data": {
      "text/plain": [
       "5040"
      ]
     },
     "execution_count": 26,
     "metadata": {},
     "output_type": "execute_result"
    }
   ],
   "source": [
    "#TO FIND FACTORIALS USING RECURSION\n",
    "def Factorial(num):\n",
    "    if num==0 or num==1:\n",
    "        return 1\n",
    "    return num*Factorial(num-1)\n",
    "\n",
    "Factorial(7)"
   ]
  },
  {
   "cell_type": "code",
   "execution_count": 25,
   "id": "f5a5a881-64b7-4f98-b725-2bb6edcfd8a0",
   "metadata": {},
   "outputs": [
    {
     "data": {
      "text/plain": [
       "4"
      ]
     },
     "execution_count": 25,
     "metadata": {},
     "output_type": "execute_result"
    }
   ],
   "source": [
    "#TO COUNT DIGIT USING RECURSION\n",
    "def Count(num):\n",
    "    if num==0:\n",
    "        return 0\n",
    "    return 1+Count(num//10)\n",
    "\n",
    "Count(1234)"
   ]
  },
  {
   "cell_type": "code",
   "execution_count": 24,
   "id": "2fcf6c97-f621-4eed-a335-c0aba56d5378",
   "metadata": {},
   "outputs": [
    {
     "name": "stdout",
     "output_type": "stream",
     "text": [
      "Armstrong\n"
     ]
    }
   ],
   "source": [
    "#ARMSTRONG NUMBER USING RECURSION\n",
    "def Count(num):\n",
    "    if num==0:\n",
    "        return 0\n",
    "    return 1 + Count(num//10)\n",
    "\n",
    "def Armstrong(num,p):\n",
    "    if num==0:\n",
    "        return 0\n",
    "    return (num%10)**p + Armstrong(num//10,p)\n",
    "\n",
    "n=153\n",
    "p=Count(n)\n",
    "if n==Armstrong(n,p):\n",
    "    print('Armstrong')\n",
    "else:\n",
    "    print('Not Armstrong')"
   ]
  },
  {
   "cell_type": "code",
   "execution_count": 23,
   "id": "564139a8-b2a3-40ae-a953-716fb088d2f9",
   "metadata": {},
   "outputs": [
    {
     "name": "stdout",
     "output_type": "stream",
     "text": [
      "Disarum\n"
     ]
    }
   ],
   "source": [
    "def Count(num):\n",
    "    if num==0:\n",
    "        return 0\n",
    "    return 1 + Count(num//10)\n",
    "\n",
    "def Disarum(num,p):\n",
    "    if num==0:\n",
    "        return 0\n",
    "    return (num%10)**p + Disarum(num//10,p-1)\n",
    "\n",
    "num=135\n",
    "if num==Disarum(num,Count(num)):\n",
    "    print('Disarum')\n",
    "else:\n",
    "    print('Not Disarum')"
   ]
  },
  {
   "cell_type": "code",
   "execution_count": 22,
   "id": "7b2e8b3d-8093-409f-aff2-d603e29f425f",
   "metadata": {},
   "outputs": [
    {
     "data": {
      "text/plain": [
       "'DCBA'"
      ]
     },
     "execution_count": 22,
     "metadata": {},
     "output_type": "execute_result"
    }
   ],
   "source": [
    "def RevString(s,i):\n",
    "    if i==-(len(s)+1):\n",
    "        return ''\n",
    "    return s[i]+RevString(s,i-1)\n",
    "\n",
    "s='ABCD'\n",
    "RevString(s,-1)"
   ]
  },
  {
   "cell_type": "code",
   "execution_count": 21,
   "id": "daafe966-4336-4fcd-8617-615c3c7130dd",
   "metadata": {},
   "outputs": [
    {
     "data": {
      "text/plain": [
       "145"
      ]
     },
     "execution_count": 21,
     "metadata": {},
     "output_type": "execute_result"
    }
   ],
   "source": [
    "def Fact(num):\n",
    "    if num==0 or num==1:\n",
    "        return 1\n",
    "    return num*Fact(num-1)\n",
    "\n",
    "def Special(num):\n",
    "    if num==0:\n",
    "        return 0\n",
    "    return Fact(num%10)+Special(num//10)\n",
    "\n",
    "Special(145)"
   ]
  },
  {
   "cell_type": "code",
   "execution_count": 9,
   "id": "af8b2689-3718-4f1a-9146-2c0c81cefbbc",
   "metadata": {},
   "outputs": [
    {
     "data": {
      "text/plain": [
       "1110"
      ]
     },
     "execution_count": 9,
     "metadata": {},
     "output_type": "execute_result"
    }
   ],
   "source": [
    "def Binary(num,p):\n",
    "    if num==0:\n",
    "        return 0\n",
    "    return (num%2)*p + Binary(num//2,p*10)\n",
    "\n",
    "Binary(14,1)"
   ]
  },
  {
   "cell_type": "code",
   "execution_count": 7,
   "id": "06796034-3d7b-4e5b-a079-60afc0597014",
   "metadata": {},
   "outputs": [
    {
     "data": {
      "text/plain": [
       "4321"
      ]
     },
     "execution_count": 7,
     "metadata": {},
     "output_type": "execute_result"
    }
   ],
   "source": [
    "def Count(num):\n",
    "    if num==0:\n",
    "        return 0\n",
    "    return 1+Count(num//10)\n",
    "def RevDigit(num,p):\n",
    "    if num==0:\n",
    "        return 0\n",
    "    return (num%10)*p + RevDigit(num//10,p//10)\n",
    "\n",
    "num=1234\n",
    "RevDigit(num,10**(Count(num)-1))"
   ]
  },
  {
   "cell_type": "code",
   "execution_count": 11,
   "id": "64f6cb47-e11d-4fba-b169-ce112d83640e",
   "metadata": {},
   "outputs": [
    {
     "name": "stdout",
     "output_type": "stream",
     "text": [
      "0 1 1 2 3 5 8 13 21 34 "
     ]
    }
   ],
   "source": [
    "def Fibonacci(n):\n",
    "    First=0\n",
    "    Second=1\n",
    "    for i in range(n):\n",
    "        print(First,end=' ')\n",
    "        Next=First+Second\n",
    "        First,Second=Second,Next\n",
    "        \n",
    "Fibonacci(10)\n",
    "    "
   ]
  },
  {
   "cell_type": "code",
   "execution_count": 20,
   "id": "7fc6764b-1609-45ab-9c9a-32c7c7f01cb5",
   "metadata": {},
   "outputs": [
    {
     "name": "stdout",
     "output_type": "stream",
     "text": [
      "YES\n"
     ]
    }
   ],
   "source": [
    "num=13\n",
    "First,Second=0,1\n",
    "while num>=First:\n",
    "    if First==num:\n",
    "        print('YES')\n",
    "        break\n",
    "    Next=First+Second\n",
    "    First,Second=Second,Next\n",
    "else:\n",
    "    print('NO')"
   ]
  },
  {
   "cell_type": "code",
   "execution_count": null,
   "id": "0dcd5398-0f5a-4771-9996-a747c94f5b5a",
   "metadata": {},
   "outputs": [],
   "source": []
  }
 ],
 "metadata": {
  "kernelspec": {
   "display_name": "Python 3 (ipykernel)",
   "language": "python",
   "name": "python3"
  },
  "language_info": {
   "codemirror_mode": {
    "name": "ipython",
    "version": 3
   },
   "file_extension": ".py",
   "mimetype": "text/x-python",
   "name": "python",
   "nbconvert_exporter": "python",
   "pygments_lexer": "ipython3",
   "version": "3.9.13"
  }
 },
 "nbformat": 4,
 "nbformat_minor": 5
}
